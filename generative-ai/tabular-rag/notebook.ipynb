{
 "cells": [
  {
   "cell_type": "markdown",
   "metadata": {},
   "source": [
    "# Tabular Data RAG"
   ]
  },
  {
   "cell_type": "code",
   "execution_count": 14,
   "metadata": {},
   "outputs": [
    {
     "name": "stdout",
     "output_type": "stream",
     "text": [
      "Requirement already satisfied: beautifultable in c:\\programdata\\miniconda3\\envs\\azure-ml\\lib\\site-packages (1.1.0)\n",
      "Requirement already satisfied: wcwidth in c:\\programdata\\miniconda3\\envs\\azure-ml\\lib\\site-packages (from beautifultable) (0.2.5)\n",
      "Note: you may need to restart the kernel to use updated packages.\n"
     ]
    }
   ],
   "source": [
    "import os\n",
    "import pandas as pd\n",
    "\n",
    "%pip install beautifultable\n",
    "from beautifultable import BeautifulTable"
   ]
  },
  {
   "cell_type": "markdown",
   "metadata": {},
   "source": [
    "## Prepare Datasets"
   ]
  },
  {
   "cell_type": "code",
   "execution_count": 15,
   "metadata": {},
   "outputs": [],
   "source": [
    "# years of evaluation\n",
    "start_year = 2014\n",
    "end_year = 2023\n",
    "\n",
    "# datasets files\n",
    "teams_dataset_file = os.path.join(\"datasets\", \"teams.csv\")\n",
    "standings_dataset_file = os.path.join(\"datasets\" ,\"standings.csv\")\n",
    "games_dataset_file = os.path.join(\"datasets\", \"games.csv\")\n",
    "\n",
    "teams_cleaned_dataset_file = os.path.join(\"datasets\", \"teams_clean.csv\")\n",
    "standings_cleaned_dataset_file = os.path.join(\"datasets\" ,\"standings_clean.csv\")\n",
    "games_cleaned_dataset_file = os.path.join(\"datasets\", \"games_clean.csv\")\n",
    "\n",
    "# seasons to evaluate\n",
    "seasons_to_evaluate = [year for year in range(start_year, end_year + 1)]\n",
    "# read teams dataset\n",
    "teams = pd.read_csv(teams_dataset_file)\n",
    "\n",
    "# removing irrelevant columns\n",
    "teams.drop([\"nfl\", \"nfl_team_id\", \"espn\", \"pfr\", \"pff\", \"pfflabel\", \"fo\", \"location\", \"short_location\", \"nickname\", \"hyphenated\", \"sbr\", \"sbr_wins\", \"sbr_name\", \"draft_kings\"]\n",
    "    , axis=1\n",
    "    , inplace=True)\n",
    "#display(teams.sample(10))\n",
    "# keep last season records and set index on team short name\n",
    "teams = teams[teams[\"season\"] == end_year]\n",
    "teams.set_index(\"team\", inplace=True)\n",
    "teams.drop(\"season\", axis=1, inplace=True)\n",
    "teams.rename(columns={\"full\" : \"team_name\"}, inplace=True)\n",
    "#display(teams)\n",
    "# dictionaries for relocated teams: {\"PREV_TEAM_ID\" : \"NEW_TEAM_ID\"}\n",
    "relocated_teams = {\"OAK\" : \"LV\", \"SD\" : \"LAC\", \"STL\" : \"LA\"}\n",
    "\n",
    "# generic function to replace relocated team ids\n",
    "def replace_relocated_teams(target_data_frame, column_name, relocated_teams):\n",
    "    for prev_team_id, new_team_id in relocated_teams.items():\n",
    "        target_data_frame.loc[target_data_frame[column_name] == prev_team_id, column_name] = new_team_id"
   ]
  }
 ],
 "metadata": {
  "kernelspec": {
   "display_name": "azure-ml",
   "language": "python",
   "name": "python3"
  },
  "language_info": {
   "codemirror_mode": {
    "name": "ipython",
    "version": 3
   },
   "file_extension": ".py",
   "mimetype": "text/x-python",
   "name": "python",
   "nbconvert_exporter": "python",
   "pygments_lexer": "ipython3",
   "version": "3.9.19"
  }
 },
 "nbformat": 4,
 "nbformat_minor": 2
}
