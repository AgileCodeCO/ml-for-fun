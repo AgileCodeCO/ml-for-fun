{
 "cells": [
  {
   "cell_type": "markdown",
   "metadata": {},
   "source": [
    "# Tabular Data RAG"
   ]
  },
  {
   "cell_type": "code",
   "execution_count": null,
   "metadata": {},
   "outputs": [
    {
     "name": "stdout",
     "output_type": "stream",
     "text": [
      "Requirement already satisfied: beautifultable in c:\\programdata\\miniconda3\\envs\\azure-ml\\lib\\site-packages (1.1.0)\n",
      "Requirement already satisfied: wcwidth in c:\\programdata\\miniconda3\\envs\\azure-ml\\lib\\site-packages (from beautifultable) (0.2.5)\n",
      "Note: you may need to restart the kernel to use updated packages.\n",
      "Requirement already satisfied: tabulate in c:\\programdata\\miniconda3\\envs\\azure-ml\\lib\\site-packages (0.9.0)\n",
      "Note: you may need to restart the kernel to use updated packages.\n",
      "Requirement already satisfied: openai==1.55.3 in c:\\programdata\\miniconda3\\envs\\azure-ml\\lib\\site-packages (1.55.3)\n",
      "Requirement already satisfied: anyio<5,>=3.5.0 in c:\\programdata\\miniconda3\\envs\\azure-ml\\lib\\site-packages (from openai==1.55.3) (4.7.0)\n",
      "Requirement already satisfied: distro<2,>=1.7.0 in c:\\programdata\\miniconda3\\envs\\azure-ml\\lib\\site-packages (from openai==1.55.3) (1.9.0)\n",
      "Requirement already satisfied: httpx<1,>=0.23.0 in c:\\programdata\\miniconda3\\envs\\azure-ml\\lib\\site-packages (from openai==1.55.3) (0.28.1)\n",
      "Requirement already satisfied: jiter<1,>=0.4.0 in c:\\programdata\\miniconda3\\envs\\azure-ml\\lib\\site-packages (from openai==1.55.3) (0.8.2)\n",
      "Requirement already satisfied: pydantic<3,>=1.9.0 in c:\\programdata\\miniconda3\\envs\\azure-ml\\lib\\site-packages (from openai==1.55.3) (2.10.4)\n",
      "Requirement already satisfied: sniffio in c:\\programdata\\miniconda3\\envs\\azure-ml\\lib\\site-packages (from openai==1.55.3) (1.3.1)\n",
      "Requirement already satisfied: tqdm>4 in c:\\programdata\\miniconda3\\envs\\azure-ml\\lib\\site-packages (from openai==1.55.3) (4.67.1)\n",
      "Requirement already satisfied: typing-extensions<5,>=4.11 in c:\\programdata\\miniconda3\\envs\\azure-ml\\lib\\site-packages (from openai==1.55.3) (4.12.2)\n",
      "Requirement already satisfied: exceptiongroup>=1.0.2 in c:\\programdata\\miniconda3\\envs\\azure-ml\\lib\\site-packages (from anyio<5,>=3.5.0->openai==1.55.3) (1.2.0)\n",
      "Requirement already satisfied: idna>=2.8 in c:\\programdata\\miniconda3\\envs\\azure-ml\\lib\\site-packages (from anyio<5,>=3.5.0->openai==1.55.3) (3.8)\n",
      "Requirement already satisfied: certifi in c:\\programdata\\miniconda3\\envs\\azure-ml\\lib\\site-packages (from httpx<1,>=0.23.0->openai==1.55.3) (2024.8.30)\n",
      "Requirement already satisfied: httpcore==1.* in c:\\programdata\\miniconda3\\envs\\azure-ml\\lib\\site-packages (from httpx<1,>=0.23.0->openai==1.55.3) (1.0.7)\n",
      "Requirement already satisfied: h11<0.15,>=0.13 in c:\\programdata\\miniconda3\\envs\\azure-ml\\lib\\site-packages (from httpcore==1.*->httpx<1,>=0.23.0->openai==1.55.3) (0.14.0)\n",
      "Requirement already satisfied: annotated-types>=0.6.0 in c:\\programdata\\miniconda3\\envs\\azure-ml\\lib\\site-packages (from pydantic<3,>=1.9.0->openai==1.55.3) (0.7.0)\n",
      "Requirement already satisfied: pydantic-core==2.27.2 in c:\\programdata\\miniconda3\\envs\\azure-ml\\lib\\site-packages (from pydantic<3,>=1.9.0->openai==1.55.3) (2.27.2)\n",
      "Requirement already satisfied: colorama in c:\\programdata\\miniconda3\\envs\\azure-ml\\lib\\site-packages (from tqdm>4->openai==1.55.3) (0.4.6)\n",
      "Note: you may need to restart the kernel to use updated packages.\n",
      "Requirement already satisfied: azure-identity in c:\\programdata\\miniconda3\\envs\\azure-ml\\lib\\site-packages (1.19.0)\n",
      "Requirement already satisfied: azure-core>=1.31.0 in c:\\programdata\\miniconda3\\envs\\azure-ml\\lib\\site-packages (from azure-identity) (1.32.0)\n",
      "Requirement already satisfied: cryptography>=2.5 in c:\\programdata\\miniconda3\\envs\\azure-ml\\lib\\site-packages (from azure-identity) (44.0.0)\n",
      "Requirement already satisfied: msal>=1.30.0 in c:\\programdata\\miniconda3\\envs\\azure-ml\\lib\\site-packages (from azure-identity) (1.31.1)\n",
      "Requirement already satisfied: msal-extensions>=1.2.0 in c:\\programdata\\miniconda3\\envs\\azure-ml\\lib\\site-packages (from azure-identity) (1.2.0)\n",
      "Requirement already satisfied: typing-extensions>=4.0.0 in c:\\programdata\\miniconda3\\envs\\azure-ml\\lib\\site-packages (from azure-identity) (4.12.2)\n",
      "Requirement already satisfied: requests>=2.21.0 in c:\\programdata\\miniconda3\\envs\\azure-ml\\lib\\site-packages (from azure-core>=1.31.0->azure-identity) (2.32.3)\n",
      "Requirement already satisfied: six>=1.11.0 in c:\\programdata\\miniconda3\\envs\\azure-ml\\lib\\site-packages (from azure-core>=1.31.0->azure-identity) (1.16.0)\n",
      "Requirement already satisfied: cffi>=1.12 in c:\\programdata\\miniconda3\\envs\\azure-ml\\lib\\site-packages (from cryptography>=2.5->azure-identity) (1.17.1)\n",
      "Requirement already satisfied: PyJWT<3,>=1.0.0 in c:\\programdata\\miniconda3\\envs\\azure-ml\\lib\\site-packages (from PyJWT[crypto]<3,>=1.0.0->msal>=1.30.0->azure-identity) (2.10.1)\n",
      "Requirement already satisfied: portalocker<3,>=1.4 in c:\\programdata\\miniconda3\\envs\\azure-ml\\lib\\site-packages (from msal-extensions>=1.2.0->azure-identity) (2.10.1)\n",
      "Requirement already satisfied: pycparser in c:\\programdata\\miniconda3\\envs\\azure-ml\\lib\\site-packages (from cffi>=1.12->cryptography>=2.5->azure-identity) (2.22)\n",
      "Requirement already satisfied: pywin32>=226 in c:\\programdata\\miniconda3\\envs\\azure-ml\\lib\\site-packages (from portalocker<3,>=1.4->msal-extensions>=1.2.0->azure-identity) (305.1)\n",
      "Requirement already satisfied: charset-normalizer<4,>=2 in c:\\programdata\\miniconda3\\envs\\azure-ml\\lib\\site-packages (from requests>=2.21.0->azure-core>=1.31.0->azure-identity) (3.3.2)\n",
      "Requirement already satisfied: idna<4,>=2.5 in c:\\programdata\\miniconda3\\envs\\azure-ml\\lib\\site-packages (from requests>=2.21.0->azure-core>=1.31.0->azure-identity) (3.8)\n",
      "Requirement already satisfied: urllib3<3,>=1.21.1 in c:\\programdata\\miniconda3\\envs\\azure-ml\\lib\\site-packages (from requests>=2.21.0->azure-core>=1.31.0->azure-identity) (2.2.3)\n",
      "Requirement already satisfied: certifi>=2017.4.17 in c:\\programdata\\miniconda3\\envs\\azure-ml\\lib\\site-packages (from requests>=2.21.0->azure-core>=1.31.0->azure-identity) (2024.8.30)\n",
      "Note: you may need to restart the kernel to use updated packages.\n"
     ]
    }
   ],
   "source": [
    "import os\n",
    "import pandas as pd\n",
    "\n",
    "# Required to convert to markdown\n",
    "%pip install tabulate\n",
    "\n",
    "# OpenAI dependencies\n",
    "%pip install openai==1.55.3\n",
    "from openai import AzureOpenAI\n",
    "\n",
    "%pip install azure-identity\n",
    "from azure.identity import DefaultAzureCredential, get_bearer_token_provider"
   ]
  },
  {
   "cell_type": "markdown",
   "metadata": {},
   "source": [
    "## Load Datasets"
   ]
  },
  {
   "cell_type": "code",
   "execution_count": 9,
   "metadata": {},
   "outputs": [],
   "source": [
    "# years of evaluation\n",
    "start_year = 2019\n",
    "end_year = 2023\n",
    "\n",
    "# datasets files\n",
    "teams_cleaned_dataset_file = os.path.join(\"datasets\", \"teams_clean.csv\")\n",
    "standings_cleaned_dataset_file = os.path.join(\"datasets\" ,\"standings_clean.csv\")\n",
    "games_cleaned_dataset_file = os.path.join(\"datasets\", \"games_clean.csv\")\n",
    "\n",
    "# seasons to evaluate\n",
    "seasons_to_evaluate = [year for year in range(start_year, end_year + 1)]\n",
    "\n",
    "# read standings dataset\n",
    "standings = pd.read_csv(standings_cleaned_dataset_file)\n",
    "\n",
    "standings = standings.drop(standings[~standings[\"season\"].isin(seasons_to_evaluate)].index)"
   ]
  },
  {
   "cell_type": "code",
   "execution_count": 10,
   "metadata": {},
   "outputs": [
    {
     "name": "stdout",
     "output_type": "stream",
     "text": [
      "|     |   season | conf   | division   | team   |   wins |   losses |   ties |      pct |   div_rank |   scored |   allowed |   net |   seed | playoff   | team_name             |\n",
      "|----:|---------:|:-------|:-----------|:-------|-------:|---------:|-------:|---------:|-----------:|---------:|----------:|------:|-------:|:----------|:----------------------|\n",
      "| 160 |     2019 | AFC    | AFC East   | BUF    |     10 |        6 |      0 | 0.625    |          2 |      314 |       259 |    55 |      5 | LostWC    | Buffalo Bills         |\n",
      "| 161 |     2019 | AFC    | AFC East   | MIA    |      5 |       11 |      0 | 0.3125   |          4 |      306 |       494 |  -188 |    nan | nan       | Miami Dolphins        |\n",
      "| 162 |     2019 | AFC    | AFC East   | NE     |     12 |        4 |      0 | 0.75     |          1 |      420 |       225 |   195 |      3 | LostWC    | New England Patriots  |\n",
      "| 163 |     2019 | AFC    | AFC East   | NYJ    |      7 |        9 |      0 | 0.4375   |          3 |      276 |       359 |   -83 |    nan | nan       | New York Jets         |\n",
      "| 164 |     2019 | AFC    | AFC North  | BAL    |     14 |        2 |      0 | 0.875    |          1 |      531 |       282 |   249 |      1 | LostDV    | Baltimore Ravens      |\n",
      "| 165 |     2019 | AFC    | AFC North  | CIN    |      2 |       14 |      0 | 0.125    |          4 |      279 |       420 |  -141 |    nan | nan       | Cincinnati Bengals    |\n",
      "| 166 |     2019 | AFC    | AFC North  | CLE    |      6 |       10 |      0 | 0.375    |          3 |      335 |       393 |   -58 |    nan | nan       | Cleveland Browns      |\n",
      "| 167 |     2019 | AFC    | AFC North  | PIT    |      8 |        8 |      0 | 0.5      |          2 |      289 |       303 |   -14 |    nan | nan       | Pittsburgh Steelers   |\n",
      "| 168 |     2019 | AFC    | AFC South  | HOU    |     10 |        6 |      0 | 0.625    |          1 |      378 |       385 |    -7 |      4 | LostDV    | Houston Texans        |\n",
      "| 169 |     2019 | AFC    | AFC South  | IND    |      7 |        9 |      0 | 0.4375   |          3 |      361 |       373 |   -12 |    nan | nan       | Indianapolis Colts    |\n",
      "| 170 |     2019 | AFC    | AFC South  | JAX    |      6 |       10 |      0 | 0.375    |          4 |      300 |       397 |   -97 |    nan | nan       | Jacksonville Jaguars  |\n",
      "| 171 |     2019 | AFC    | AFC South  | TEN    |      9 |        7 |      0 | 0.5625   |          2 |      402 |       331 |    71 |      6 | LostCC    | Tennessee Titans      |\n",
      "| 172 |     2019 | AFC    | AFC West   | DEN    |      7 |        9 |      0 | 0.4375   |          2 |      282 |       316 |   -34 |    nan | nan       | Denver Broncos        |\n",
      "| 173 |     2019 | AFC    | AFC West   | KC     |     12 |        4 |      0 | 0.75     |          1 |      451 |       308 |   143 |      2 | WonSB     | Kansas City Chiefs    |\n",
      "| 174 |     2019 | AFC    | AFC West   | LAC    |      5 |       11 |      0 | 0.3125   |          4 |      337 |       345 |    -8 |    nan | nan       | Los Angeles Chargers  |\n",
      "| 175 |     2019 | AFC    | AFC West   | LV     |      7 |        9 |      0 | 0.4375   |          3 |      313 |       419 |  -106 |    nan | nan       | Las Vegas Raiders     |\n",
      "| 176 |     2019 | NFC    | NFC East   | DAL    |      8 |        8 |      0 | 0.5      |          2 |      434 |       321 |   113 |    nan | nan       | Dallas Cowboys        |\n",
      "| 177 |     2019 | NFC    | NFC East   | NYG    |      4 |       12 |      0 | 0.25     |          3 |      341 |       451 |  -110 |    nan | nan       | New York Giants       |\n",
      "| 178 |     2019 | NFC    | NFC East   | PHI    |      9 |        7 |      0 | 0.5625   |          1 |      385 |       354 |    31 |      4 | LostWC    | Philadelphia Eagles   |\n",
      "| 179 |     2019 | NFC    | NFC East   | WAS    |      3 |       13 |      0 | 0.1875   |          4 |      266 |       435 |  -169 |    nan | nan       | Washington Commanders |\n",
      "| 180 |     2019 | NFC    | NFC North  | CHI    |      8 |        8 |      0 | 0.5      |          3 |      280 |       298 |   -18 |    nan | nan       | Chicago Bears         |\n",
      "| 181 |     2019 | NFC    | NFC North  | DET    |      3 |       12 |      1 | 0.21875  |          4 |      341 |       423 |   -82 |    nan | nan       | Detroit Lions         |\n",
      "| 182 |     2019 | NFC    | NFC North  | GB     |     13 |        3 |      0 | 0.8125   |          1 |      376 |       313 |    63 |      2 | LostCC    | Green Bay Packers     |\n",
      "| 183 |     2019 | NFC    | NFC North  | MIN    |     10 |        6 |      0 | 0.625    |          2 |      407 |       303 |   104 |      6 | LostDV    | Minnesota Vikings     |\n",
      "| 184 |     2019 | NFC    | NFC South  | ATL    |      7 |        9 |      0 | 0.4375   |          2 |      381 |       399 |   -18 |    nan | nan       | Atlanta Falcons       |\n",
      "| 185 |     2019 | NFC    | NFC South  | CAR    |      5 |       11 |      0 | 0.3125   |          4 |      340 |       470 |  -130 |    nan | nan       | Carolina Panthers     |\n",
      "| 186 |     2019 | NFC    | NFC South  | NO     |     13 |        3 |      0 | 0.8125   |          1 |      458 |       341 |   117 |      3 | LostWC    | New Orleans Saints    |\n",
      "| 187 |     2019 | NFC    | NFC South  | TB     |      7 |        9 |      0 | 0.4375   |          3 |      458 |       449 |     9 |    nan | nan       | Tampa Bay Buccaneers  |\n",
      "| 188 |     2019 | NFC    | NFC West   | ARI    |      5 |       10 |      1 | 0.34375  |          4 |      361 |       442 |   -81 |    nan | nan       | Arizona Cardinals     |\n",
      "| 189 |     2019 | NFC    | NFC West   | LA     |      9 |        7 |      0 | 0.5625   |          3 |      394 |       364 |    30 |    nan | nan       | Los Angeles Rams      |\n",
      "| 190 |     2019 | NFC    | NFC West   | SEA    |     11 |        5 |      0 | 0.6875   |          2 |      405 |       398 |     7 |      5 | LostDV    | Seattle Seahawks      |\n",
      "| 191 |     2019 | NFC    | NFC West   | SF     |     13 |        3 |      0 | 0.8125   |          1 |      479 |       310 |   169 |      1 | LostSB    | San Francisco 49ers   |\n",
      "| 192 |     2020 | AFC    | AFC East   | BUF    |     13 |        3 |      0 | 0.8125   |          1 |      501 |       375 |   126 |      2 | LostCC    | Buffalo Bills         |\n",
      "| 193 |     2020 | AFC    | AFC East   | MIA    |     10 |        6 |      0 | 0.625    |          2 |      404 |       338 |    66 |    nan | nan       | Miami Dolphins        |\n",
      "| 194 |     2020 | AFC    | AFC East   | NE     |      7 |        9 |      0 | 0.4375   |          3 |      326 |       353 |   -27 |    nan | nan       | New England Patriots  |\n",
      "| 195 |     2020 | AFC    | AFC East   | NYJ    |      2 |       14 |      0 | 0.125    |          4 |      243 |       457 |  -214 |    nan | nan       | New York Jets         |\n",
      "| 196 |     2020 | AFC    | AFC North  | BAL    |     11 |        5 |      0 | 0.6875   |          2 |      468 |       303 |   165 |      5 | LostDV    | Baltimore Ravens      |\n",
      "| 197 |     2020 | AFC    | AFC North  | CIN    |      4 |       11 |      1 | 0.28125  |          4 |      311 |       424 |  -113 |    nan | nan       | Cincinnati Bengals    |\n",
      "| 198 |     2020 | AFC    | AFC North  | CLE    |     11 |        5 |      0 | 0.6875   |          3 |      408 |       419 |   -11 |      6 | LostDV    | Cleveland Browns      |\n",
      "| 199 |     2020 | AFC    | AFC North  | PIT    |     12 |        4 |      0 | 0.75     |          1 |      416 |       312 |   104 |      3 | LostWC    | Pittsburgh Steelers   |\n",
      "| 200 |     2020 | AFC    | AFC South  | HOU    |      4 |       12 |      0 | 0.25     |          3 |      384 |       464 |   -80 |    nan | nan       | Houston Texans        |\n",
      "| 201 |     2020 | AFC    | AFC South  | IND    |     11 |        5 |      0 | 0.6875   |          2 |      451 |       362 |    89 |      7 | LostWC    | Indianapolis Colts    |\n",
      "| 202 |     2020 | AFC    | AFC South  | JAX    |      1 |       15 |      0 | 0.0625   |          4 |      306 |       492 |  -186 |    nan | nan       | Jacksonville Jaguars  |\n",
      "| 203 |     2020 | AFC    | AFC South  | TEN    |     11 |        5 |      0 | 0.6875   |          1 |      491 |       439 |    52 |      4 | LostWC    | Tennessee Titans      |\n",
      "| 204 |     2020 | AFC    | AFC West   | DEN    |      5 |       11 |      0 | 0.3125   |          4 |      323 |       446 |  -123 |    nan | nan       | Denver Broncos        |\n",
      "| 205 |     2020 | AFC    | AFC West   | KC     |     14 |        2 |      0 | 0.875    |          1 |      473 |       362 |   111 |      1 | LostSB    | Kansas City Chiefs    |\n",
      "| 206 |     2020 | AFC    | AFC West   | LAC    |      7 |        9 |      0 | 0.4375   |          3 |      384 |       426 |   -42 |    nan | nan       | Los Angeles Chargers  |\n",
      "| 207 |     2020 | AFC    | AFC West   | LV     |      8 |        8 |      0 | 0.5      |          2 |      434 |       478 |   -44 |    nan | nan       | Las Vegas Raiders     |\n",
      "| 208 |     2020 | NFC    | NFC East   | DAL    |      6 |       10 |      0 | 0.375    |          3 |      395 |       473 |   -78 |    nan | nan       | Dallas Cowboys        |\n",
      "| 209 |     2020 | NFC    | NFC East   | NYG    |      6 |       10 |      0 | 0.375    |          2 |      280 |       357 |   -77 |    nan | nan       | New York Giants       |\n",
      "| 210 |     2020 | NFC    | NFC East   | PHI    |      4 |       11 |      1 | 0.28125  |          4 |      334 |       418 |   -84 |    nan | nan       | Philadelphia Eagles   |\n",
      "| 211 |     2020 | NFC    | NFC East   | WAS    |      7 |        9 |      0 | 0.4375   |          1 |      335 |       329 |     6 |      4 | LostWC    | Washington Commanders |\n",
      "| 212 |     2020 | NFC    | NFC North  | CHI    |      8 |        8 |      0 | 0.5      |          2 |      372 |       370 |     2 |      7 | LostWC    | Chicago Bears         |\n",
      "| 213 |     2020 | NFC    | NFC North  | DET    |      5 |       11 |      0 | 0.3125   |          4 |      377 |       519 |  -142 |    nan | nan       | Detroit Lions         |\n",
      "| 214 |     2020 | NFC    | NFC North  | GB     |     13 |        3 |      0 | 0.8125   |          1 |      509 |       369 |   140 |      1 | LostCC    | Green Bay Packers     |\n",
      "| 215 |     2020 | NFC    | NFC North  | MIN    |      7 |        9 |      0 | 0.4375   |          3 |      430 |       475 |   -45 |    nan | nan       | Minnesota Vikings     |\n",
      "| 216 |     2020 | NFC    | NFC South  | ATL    |      4 |       12 |      0 | 0.25     |          4 |      396 |       414 |   -18 |    nan | nan       | Atlanta Falcons       |\n",
      "| 217 |     2020 | NFC    | NFC South  | CAR    |      5 |       11 |      0 | 0.3125   |          3 |      350 |       402 |   -52 |    nan | nan       | Carolina Panthers     |\n",
      "| 218 |     2020 | NFC    | NFC South  | NO     |     12 |        4 |      0 | 0.75     |          1 |      482 |       337 |   145 |      2 | LostDV    | New Orleans Saints    |\n",
      "| 219 |     2020 | NFC    | NFC South  | TB     |     11 |        5 |      0 | 0.6875   |          2 |      492 |       355 |   137 |      5 | WonSB     | Tampa Bay Buccaneers  |\n",
      "| 220 |     2020 | NFC    | NFC West   | ARI    |      8 |        8 |      0 | 0.5      |          3 |      410 |       367 |    43 |    nan | nan       | Arizona Cardinals     |\n",
      "| 221 |     2020 | NFC    | NFC West   | LA     |     10 |        6 |      0 | 0.625    |          2 |      372 |       296 |    76 |      6 | LostDV    | Los Angeles Rams      |\n",
      "| 222 |     2020 | NFC    | NFC West   | SEA    |     12 |        4 |      0 | 0.75     |          1 |      459 |       371 |    88 |      3 | LostWC    | Seattle Seahawks      |\n",
      "| 223 |     2020 | NFC    | NFC West   | SF     |      6 |       10 |      0 | 0.375    |          4 |      376 |       390 |   -14 |    nan | nan       | San Francisco 49ers   |\n",
      "| 224 |     2021 | AFC    | AFC East   | BUF    |     11 |        6 |      0 | 0.647059 |          1 |      483 |       289 |   194 |      3 | LostDV    | Buffalo Bills         |\n",
      "| 225 |     2021 | AFC    | AFC East   | MIA    |      9 |        8 |      0 | 0.529412 |          3 |      341 |       373 |   -32 |    nan | nan       | Miami Dolphins        |\n",
      "| 226 |     2021 | AFC    | AFC East   | NE     |     10 |        7 |      0 | 0.588235 |          2 |      462 |       303 |   159 |      6 | LostWC    | New England Patriots  |\n",
      "| 227 |     2021 | AFC    | AFC East   | NYJ    |      4 |       13 |      0 | 0.235294 |          4 |      310 |       504 |  -194 |    nan | nan       | New York Jets         |\n",
      "| 228 |     2021 | AFC    | AFC North  | BAL    |      8 |        9 |      0 | 0.470588 |          4 |      387 |       392 |    -5 |    nan | nan       | Baltimore Ravens      |\n",
      "| 229 |     2021 | AFC    | AFC North  | CIN    |     10 |        7 |      0 | 0.588235 |          1 |      460 |       376 |    84 |      4 | LostSB    | Cincinnati Bengals    |\n",
      "| 230 |     2021 | AFC    | AFC North  | CLE    |      8 |        9 |      0 | 0.470588 |          3 |      349 |       371 |   -22 |    nan | nan       | Cleveland Browns      |\n",
      "| 231 |     2021 | AFC    | AFC North  | PIT    |      9 |        7 |      1 | 0.558824 |          2 |      343 |       398 |   -55 |      7 | LostWC    | Pittsburgh Steelers   |\n",
      "| 232 |     2021 | AFC    | AFC South  | HOU    |      4 |       13 |      0 | 0.235294 |          3 |      280 |       452 |  -172 |    nan | nan       | Houston Texans        |\n",
      "| 233 |     2021 | AFC    | AFC South  | IND    |      9 |        8 |      0 | 0.529412 |          2 |      451 |       365 |    86 |    nan | nan       | Indianapolis Colts    |\n",
      "| 234 |     2021 | AFC    | AFC South  | JAX    |      3 |       14 |      0 | 0.176471 |          4 |      253 |       457 |  -204 |    nan | nan       | Jacksonville Jaguars  |\n",
      "| 235 |     2021 | AFC    | AFC South  | TEN    |     12 |        5 |      0 | 0.705882 |          1 |      419 |       354 |    65 |      1 | LostDV    | Tennessee Titans      |\n",
      "| 236 |     2021 | AFC    | AFC West   | DEN    |      7 |       10 |      0 | 0.411765 |          4 |      335 |       322 |    13 |    nan | nan       | Denver Broncos        |\n",
      "| 237 |     2021 | AFC    | AFC West   | KC     |     12 |        5 |      0 | 0.705882 |          1 |      480 |       364 |   116 |      2 | LostCC    | Kansas City Chiefs    |\n",
      "| 238 |     2021 | AFC    | AFC West   | LAC    |      9 |        8 |      0 | 0.529412 |          3 |      474 |       459 |    15 |    nan | nan       | Los Angeles Chargers  |\n",
      "| 239 |     2021 | AFC    | AFC West   | LV     |     10 |        7 |      0 | 0.588235 |          2 |      374 |       439 |   -65 |      5 | LostWC    | Las Vegas Raiders     |\n",
      "| 240 |     2021 | NFC    | NFC East   | DAL    |     12 |        5 |      0 | 0.705882 |          1 |      530 |       358 |   172 |      3 | LostWC    | Dallas Cowboys        |\n",
      "| 241 |     2021 | NFC    | NFC East   | NYG    |      4 |       13 |      0 | 0.235294 |          4 |      258 |       416 |  -158 |    nan | nan       | New York Giants       |\n",
      "| 242 |     2021 | NFC    | NFC East   | PHI    |      9 |        8 |      0 | 0.529412 |          2 |      444 |       385 |    59 |      7 | LostWC    | Philadelphia Eagles   |\n",
      "| 243 |     2021 | NFC    | NFC East   | WAS    |      7 |       10 |      0 | 0.411765 |          3 |      335 |       434 |   -99 |    nan | nan       | Washington Commanders |\n",
      "| 244 |     2021 | NFC    | NFC North  | CHI    |      6 |       11 |      0 | 0.352941 |          3 |      311 |       407 |   -96 |    nan | nan       | Chicago Bears         |\n",
      "| 245 |     2021 | NFC    | NFC North  | DET    |      3 |       13 |      1 | 0.205882 |          4 |      325 |       467 |  -142 |    nan | nan       | Detroit Lions         |\n",
      "| 246 |     2021 | NFC    | NFC North  | GB     |     13 |        4 |      0 | 0.764706 |          1 |      450 |       371 |    79 |      1 | LostDV    | Green Bay Packers     |\n",
      "| 247 |     2021 | NFC    | NFC North  | MIN    |      8 |        9 |      0 | 0.470588 |          2 |      425 |       426 |    -1 |    nan | nan       | Minnesota Vikings     |\n",
      "| 248 |     2021 | NFC    | NFC South  | ATL    |      7 |       10 |      0 | 0.411765 |          3 |      313 |       459 |  -146 |    nan | nan       | Atlanta Falcons       |\n",
      "| 249 |     2021 | NFC    | NFC South  | CAR    |      5 |       12 |      0 | 0.294118 |          4 |      304 |       404 |  -100 |    nan | nan       | Carolina Panthers     |\n",
      "| 250 |     2021 | NFC    | NFC South  | NO     |      9 |        8 |      0 | 0.529412 |          2 |      364 |       335 |    29 |    nan | nan       | New Orleans Saints    |\n",
      "| 251 |     2021 | NFC    | NFC South  | TB     |     13 |        4 |      0 | 0.764706 |          1 |      511 |       353 |   158 |      2 | LostDV    | Tampa Bay Buccaneers  |\n",
      "| 252 |     2021 | NFC    | NFC West   | ARI    |     11 |        6 |      0 | 0.647059 |          2 |      449 |       366 |    83 |      5 | LostWC    | Arizona Cardinals     |\n",
      "| 253 |     2021 | NFC    | NFC West   | LA     |     12 |        5 |      0 | 0.705882 |          1 |      460 |       372 |    88 |      4 | WonSB     | Los Angeles Rams      |\n",
      "| 254 |     2021 | NFC    | NFC West   | SEA    |      7 |       10 |      0 | 0.411765 |          4 |      395 |       366 |    29 |    nan | nan       | Seattle Seahawks      |\n",
      "| 255 |     2021 | NFC    | NFC West   | SF     |     10 |        7 |      0 | 0.588235 |          3 |      427 |       365 |    62 |      6 | LostCC    | San Francisco 49ers   |\n",
      "| 256 |     2022 | AFC    | AFC East   | BUF    |     13 |        3 |      0 | 0.8125   |          1 |      455 |       286 |   169 |      2 | LostDV    | Buffalo Bills         |\n",
      "| 257 |     2022 | AFC    | AFC East   | MIA    |      9 |        8 |      0 | 0.529412 |          2 |      397 |       399 |    -2 |      7 | LostWC    | Miami Dolphins        |\n",
      "| 258 |     2022 | AFC    | AFC East   | NE     |      8 |        9 |      0 | 0.470588 |          3 |      364 |       347 |    17 |    nan | nan       | New England Patriots  |\n",
      "| 259 |     2022 | AFC    | AFC East   | NYJ    |      7 |       10 |      0 | 0.411765 |          4 |      296 |       316 |   -20 |    nan | nan       | New York Jets         |\n",
      "| 260 |     2022 | AFC    | AFC North  | BAL    |     10 |        7 |      0 | 0.588235 |          2 |      350 |       315 |    35 |      6 | LostWC    | Baltimore Ravens      |\n",
      "| 261 |     2022 | AFC    | AFC North  | CIN    |     12 |        4 |      0 | 0.75     |          1 |      418 |       322 |    96 |      3 | LostCC    | Cincinnati Bengals    |\n",
      "| 262 |     2022 | AFC    | AFC North  | CLE    |      7 |       10 |      0 | 0.411765 |          4 |      361 |       381 |   -20 |    nan | nan       | Cleveland Browns      |\n",
      "| 263 |     2022 | AFC    | AFC North  | PIT    |      9 |        8 |      0 | 0.529412 |          3 |      308 |       346 |   -38 |    nan | nan       | Pittsburgh Steelers   |\n",
      "| 264 |     2022 | AFC    | AFC South  | HOU    |      3 |       13 |      1 | 0.205882 |          4 |      289 |       420 |  -131 |    nan | nan       | Houston Texans        |\n",
      "| 265 |     2022 | AFC    | AFC South  | IND    |      4 |       12 |      1 | 0.264706 |          3 |      289 |       427 |  -138 |    nan | nan       | Indianapolis Colts    |\n",
      "| 266 |     2022 | AFC    | AFC South  | JAX    |      9 |        8 |      0 | 0.529412 |          1 |      404 |       350 |    54 |      4 | LostDV    | Jacksonville Jaguars  |\n",
      "| 267 |     2022 | AFC    | AFC South  | TEN    |      7 |       10 |      0 | 0.411765 |          2 |      298 |       359 |   -61 |    nan | nan       | Tennessee Titans      |\n",
      "| 268 |     2022 | AFC    | AFC West   | DEN    |      5 |       12 |      0 | 0.294118 |          4 |      287 |       359 |   -72 |    nan | nan       | Denver Broncos        |\n",
      "| 269 |     2022 | AFC    | AFC West   | KC     |     14 |        3 |      0 | 0.823529 |          1 |      496 |       369 |   127 |      1 | WonSB     | Kansas City Chiefs    |\n",
      "| 270 |     2022 | AFC    | AFC West   | LAC    |     10 |        7 |      0 | 0.588235 |          2 |      391 |       384 |     7 |      5 | LostWC    | Los Angeles Chargers  |\n",
      "| 271 |     2022 | AFC    | AFC West   | LV     |      6 |       11 |      0 | 0.352941 |          3 |      395 |       418 |   -23 |    nan | nan       | Las Vegas Raiders     |\n",
      "| 272 |     2022 | NFC    | NFC East   | DAL    |     12 |        5 |      0 | 0.705882 |          2 |      467 |       342 |   125 |      5 | LostDV    | Dallas Cowboys        |\n",
      "| 273 |     2022 | NFC    | NFC East   | NYG    |      9 |        7 |      1 | 0.558824 |          3 |      365 |       371 |    -6 |      6 | LostDV    | New York Giants       |\n",
      "| 274 |     2022 | NFC    | NFC East   | PHI    |     14 |        3 |      0 | 0.823529 |          1 |      477 |       344 |   133 |      1 | LostSB    | Philadelphia Eagles   |\n",
      "| 275 |     2022 | NFC    | NFC East   | WAS    |      8 |        8 |      1 | 0.5      |          4 |      321 |       343 |   -22 |    nan | nan       | Washington Commanders |\n",
      "| 276 |     2022 | NFC    | NFC North  | CHI    |      3 |       14 |      0 | 0.176471 |          4 |      326 |       463 |  -137 |    nan | nan       | Chicago Bears         |\n",
      "| 277 |     2022 | NFC    | NFC North  | DET    |      9 |        8 |      0 | 0.529412 |          2 |      453 |       427 |    26 |    nan | nan       | Detroit Lions         |\n",
      "| 278 |     2022 | NFC    | NFC North  | GB     |      8 |        9 |      0 | 0.470588 |          3 |      370 |       371 |    -1 |    nan | nan       | Green Bay Packers     |\n",
      "| 279 |     2022 | NFC    | NFC North  | MIN    |     13 |        4 |      0 | 0.764706 |          1 |      424 |       427 |    -3 |      3 | LostWC    | Minnesota Vikings     |\n",
      "| 280 |     2022 | NFC    | NFC South  | ATL    |      7 |       10 |      0 | 0.411765 |          4 |      365 |       386 |   -21 |    nan | nan       | Atlanta Falcons       |\n",
      "| 281 |     2022 | NFC    | NFC South  | CAR    |      7 |       10 |      0 | 0.411765 |          2 |      347 |       374 |   -27 |    nan | nan       | Carolina Panthers     |\n",
      "| 282 |     2022 | NFC    | NFC South  | NO     |      7 |       10 |      0 | 0.411765 |          3 |      330 |       345 |   -15 |    nan | nan       | New Orleans Saints    |\n",
      "| 283 |     2022 | NFC    | NFC South  | TB     |      8 |        9 |      0 | 0.470588 |          1 |      313 |       358 |   -45 |      4 | LostWC    | Tampa Bay Buccaneers  |\n",
      "| 284 |     2022 | NFC    | NFC West   | ARI    |      4 |       13 |      0 | 0.235294 |          4 |      340 |       449 |  -109 |    nan | nan       | Arizona Cardinals     |\n",
      "| 285 |     2022 | NFC    | NFC West   | LA     |      5 |       12 |      0 | 0.294118 |          3 |      307 |       384 |   -77 |    nan | nan       | Los Angeles Rams      |\n",
      "| 286 |     2022 | NFC    | NFC West   | SEA    |      9 |        8 |      0 | 0.529412 |          2 |      407 |       401 |     6 |      7 | LostWC    | Seattle Seahawks      |\n",
      "| 287 |     2022 | NFC    | NFC West   | SF     |     13 |        4 |      0 | 0.764706 |          1 |      450 |       277 |   173 |      2 | LostCC    | San Francisco 49ers   |\n",
      "| 288 |     2023 | AFC    | AFC East   | BUF    |     11 |        6 |      0 | 0.647059 |          1 |      451 |       311 |   140 |      2 | LostDV    | Buffalo Bills         |\n",
      "| 289 |     2023 | AFC    | AFC East   | MIA    |     11 |        6 |      0 | 0.647059 |          2 |      496 |       391 |   105 |      6 | LostWC    | Miami Dolphins        |\n",
      "| 290 |     2023 | AFC    | AFC East   | NE     |      4 |       13 |      0 | 0.235294 |          4 |      236 |       366 |  -130 |    nan | nan       | New England Patriots  |\n",
      "| 291 |     2023 | AFC    | AFC East   | NYJ    |      7 |       10 |      0 | 0.411765 |          3 |      268 |       355 |   -87 |    nan | nan       | New York Jets         |\n",
      "| 292 |     2023 | AFC    | AFC North  | BAL    |     13 |        4 |      0 | 0.764706 |          1 |      483 |       280 |   203 |      1 | LostCC    | Baltimore Ravens      |\n",
      "| 293 |     2023 | AFC    | AFC North  | CIN    |      9 |        8 |      0 | 0.529412 |          4 |      366 |       384 |   -18 |    nan | nan       | Cincinnati Bengals    |\n",
      "| 294 |     2023 | AFC    | AFC North  | CLE    |     11 |        6 |      0 | 0.647059 |          2 |      396 |       362 |    34 |      5 | LostWC    | Cleveland Browns      |\n",
      "| 295 |     2023 | AFC    | AFC North  | PIT    |     10 |        7 |      0 | 0.588235 |          3 |      304 |       324 |   -20 |      7 | LostWC    | Pittsburgh Steelers   |\n",
      "| 296 |     2023 | AFC    | AFC South  | HOU    |     10 |        7 |      0 | 0.588235 |          1 |      377 |       353 |    24 |      4 | LostDV    | Houston Texans        |\n",
      "| 297 |     2023 | AFC    | AFC South  | IND    |      9 |        8 |      0 | 0.529412 |          3 |      396 |       415 |   -19 |    nan | nan       | Indianapolis Colts    |\n",
      "| 298 |     2023 | AFC    | AFC South  | JAX    |      9 |        8 |      0 | 0.529412 |          2 |      377 |       371 |     6 |    nan | nan       | Jacksonville Jaguars  |\n",
      "| 299 |     2023 | AFC    | AFC South  | TEN    |      6 |       11 |      0 | 0.352941 |          4 |      305 |       367 |   -62 |    nan | nan       | Tennessee Titans      |\n",
      "| 300 |     2023 | AFC    | AFC West   | DEN    |      8 |        9 |      0 | 0.470588 |          3 |      357 |       413 |   -56 |    nan | nan       | Denver Broncos        |\n",
      "| 301 |     2023 | AFC    | AFC West   | KC     |     11 |        6 |      0 | 0.647059 |          1 |      371 |       294 |    77 |      3 | nan       | Kansas City Chiefs    |\n",
      "| 302 |     2023 | AFC    | AFC West   | LAC    |      5 |       12 |      0 | 0.294118 |          4 |      346 |       398 |   -52 |    nan | nan       | Los Angeles Chargers  |\n",
      "| 303 |     2023 | AFC    | AFC West   | LV     |      8 |        9 |      0 | 0.470588 |          2 |      332 |       331 |     1 |    nan | nan       | Las Vegas Raiders     |\n",
      "| 304 |     2023 | NFC    | NFC East   | DAL    |     12 |        5 |      0 | 0.705882 |          1 |      509 |       315 |   194 |      2 | LostWC    | Dallas Cowboys        |\n",
      "| 305 |     2023 | NFC    | NFC East   | NYG    |      6 |       11 |      0 | 0.352941 |          3 |      266 |       407 |  -141 |    nan | nan       | New York Giants       |\n",
      "| 306 |     2023 | NFC    | NFC East   | PHI    |     11 |        6 |      0 | 0.647059 |          2 |      433 |       428 |     5 |      5 | LostWC    | Philadelphia Eagles   |\n",
      "| 307 |     2023 | NFC    | NFC East   | WAS    |      4 |       13 |      0 | 0.235294 |          4 |      329 |       518 |  -189 |    nan | nan       | Washington Commanders |\n",
      "| 308 |     2023 | NFC    | NFC North  | CHI    |      7 |       10 |      0 | 0.411765 |          4 |      360 |       379 |   -19 |    nan | nan       | Chicago Bears         |\n",
      "| 309 |     2023 | NFC    | NFC North  | DET    |     12 |        5 |      0 | 0.705882 |          1 |      461 |       395 |    66 |      3 | LostCC    | Detroit Lions         |\n",
      "| 310 |     2023 | NFC    | NFC North  | GB     |      9 |        8 |      0 | 0.529412 |          2 |      383 |       350 |    33 |      7 | LostDV    | Green Bay Packers     |\n",
      "| 311 |     2023 | NFC    | NFC North  | MIN    |      7 |       10 |      0 | 0.411765 |          3 |      344 |       362 |   -18 |    nan | nan       | Minnesota Vikings     |\n",
      "| 312 |     2023 | NFC    | NFC South  | ATL    |      7 |       10 |      0 | 0.411765 |          3 |      321 |       373 |   -52 |    nan | nan       | Atlanta Falcons       |\n",
      "| 313 |     2023 | NFC    | NFC South  | CAR    |      2 |       15 |      0 | 0.117647 |          4 |      236 |       416 |  -180 |    nan | nan       | Carolina Panthers     |\n",
      "| 314 |     2023 | NFC    | NFC South  | NO     |      9 |        8 |      0 | 0.529412 |          2 |      402 |       327 |    75 |    nan | nan       | New Orleans Saints    |\n",
      "| 315 |     2023 | NFC    | NFC South  | TB     |      9 |        8 |      0 | 0.529412 |          1 |      348 |       325 |    23 |      4 | LostDV    | Tampa Bay Buccaneers  |\n",
      "| 316 |     2023 | NFC    | NFC West   | ARI    |      4 |       13 |      0 | 0.235294 |          4 |      330 |       455 |  -125 |    nan | nan       | Arizona Cardinals     |\n",
      "| 317 |     2023 | NFC    | NFC West   | LA     |     10 |        7 |      0 | 0.588235 |          2 |      404 |       377 |    27 |      6 | LostWC    | Los Angeles Rams      |\n",
      "| 318 |     2023 | NFC    | NFC West   | SEA    |      9 |        8 |      0 | 0.529412 |          3 |      364 |       402 |   -38 |    nan | nan       | Seattle Seahawks      |\n",
      "| 319 |     2023 | NFC    | NFC West   | SF     |     12 |        5 |      0 | 0.705882 |          1 |      491 |       298 |   193 |      1 | nan       | San Francisco 49ers   |\n"
     ]
    }
   ],
   "source": [
    "# filder standings by team name NE \n",
    "#standings_filtered = standings[standings['team'] == 'NE']\n",
    "\n",
    "# convert standings to markdown\n",
    "standings_markdown = standings.to_markdown()\n",
    "\n",
    "print(standings_markdown)"
   ]
  },
  {
   "cell_type": "markdown",
   "metadata": {},
   "source": [
    "## Run Language Model"
   ]
  },
  {
   "cell_type": "code",
   "execution_count": 18,
   "metadata": {},
   "outputs": [],
   "source": [
    "MESSAGE_SYSTEM_CONTENT = \"\"\"You are a customer service agent that helps a customer with answering questions about NFL statistical data. \n",
    "Please answer the question based on the provided context below.\n",
    "Te context is a table in markdown format that contains NFL standings data for the 2019-2023 seasons.\n",
    "Make sure not to make any changes to the context, if possible, when preparing answers to provide accurate responses. \n",
    "If the answer cannot be found in context, just politely say that you do not know, do not try to make up an answer.\"\"\""
   ]
  },
  {
   "cell_type": "code",
   "execution_count": 12,
   "metadata": {},
   "outputs": [],
   "source": [
    "token_provider = get_bearer_token_provider(  \n",
    "    DefaultAzureCredential(),  \n",
    "    \"https://cognitiveservices.azure.com/.default\"  \n",
    ")\n",
    "client = AzureOpenAI(\n",
    "    azure_ad_token_provider=token_provider,\n",
    "    api_version=\"2024-08-01-preview\", \n",
    "    azure_endpoint=\"https://rag-research.openai.azure.com/\")"
   ]
  },
  {
   "cell_type": "code",
   "execution_count": 13,
   "metadata": {},
   "outputs": [],
   "source": [
    "\n",
    "def response_test(question:str, context:str, model:str = \"gpt-4o\"):\n",
    "    response = client.chat.completions.create(\n",
    "        model=model,\n",
    "        messages=[\n",
    "            {\n",
    "                \"role\": \"system\",\n",
    "                \"content\": MESSAGE_SYSTEM_CONTENT,\n",
    "            },\n",
    "            {\"role\": \"user\", \"content\": question},\n",
    "            {\"role\": \"assistant\", \"content\": context},\n",
    "        ],\n",
    "    )\n",
    "    \n",
    "    return response.choices[0].message.content"
   ]
  },
  {
   "cell_type": "code",
   "execution_count": 22,
   "metadata": {},
   "outputs": [
    {
     "name": "stdout",
     "output_type": "stream",
     "text": [
      "The division rank for the New England Patriots in the 2020 NFL season was 3.\n"
     ]
    }
   ],
   "source": [
    "response = response_test(\"What is the div_rank for the 2020 NFL season for New England Patriots?\", standings_markdown)\n",
    "print(response)"
   ]
  },
  {
   "cell_type": "code",
   "execution_count": 15,
   "metadata": {},
   "outputs": [
    {
     "name": "stdout",
     "output_type": "stream",
     "text": [
      "The provided data shows the New England Patriots' scored points for the past five seasons:\n",
      "\n",
      "- 2019: 420 points\n",
      "- 2020: 326 points\n",
      "- 2021: 462 points\n",
      "- 2022: 364 points\n",
      "- 2023: 236 points\n",
      "\n",
      "To calculate the average scored points over these seasons, you can add the points together and divide by the number of seasons:\n",
      "\n",
      "(420 + 326 + 462 + 364 + 236) / 5 = 361.6\n",
      "\n",
      "The average scored points for the New England Patriots over these five seasons is 361.6 points per season.\n"
     ]
    }
   ],
   "source": [
    "response = response_test(\"What is the average of scored points for New England Patriots?\", standings_markdown)\n",
    "print(response)"
   ]
  },
  {
   "cell_type": "code",
   "execution_count": 19,
   "metadata": {},
   "outputs": [
    {
     "name": "stdout",
     "output_type": "stream",
     "text": [
      "To determine which team has the best scored points average over the seasons provided (2019-2023), we need to calculate the average points scored per season for each team and compare them. It seems that the Kansas City Chiefs in 2020 scored 473 points over 16 games, and in 2022, they scored 496 points over 17 games, which might give them a significant average.\n",
      "\n",
      "However, to provide a definitive answer, all teams' total scored points over the seasons would need to be divided by the number of games they played (not necessarily all played 17 games in each season) and compared. Unfortunately, a full calculation hasn't been provided here, so I recommend reviewing the points scored by each team across all seasons to definitively determine which has the best average.\n"
     ]
    }
   ],
   "source": [
    "response = response_test(\"Which team has the best scored points average in the seasons provided?\", standings_markdown)\n",
    "print(response)"
   ]
  },
  {
   "cell_type": "code",
   "execution_count": 20,
   "metadata": {},
   "outputs": [
    {
     "name": "stdout",
     "output_type": "stream",
     "text": [
      "The Kansas City Chiefs have the most wins in the data provided, with a total of 63 wins over the five seasons from 2019 to 2023.\n"
     ]
    }
   ],
   "source": [
    "response = response_test(\"What is the team with more wins in the data provided?\", standings_markdown)\n",
    "print(response)"
   ]
  },
  {
   "cell_type": "code",
   "execution_count": 21,
   "metadata": {},
   "outputs": [
    {
     "name": "stdout",
     "output_type": "stream",
     "text": [
      "The team with the fewest total wins over the provided seasons is the Jacksonville Jaguars in the 2020 season, who had 1 win and 15 losses.\n"
     ]
    }
   ],
   "source": [
    "response = response_test(\"What is the team with less total wins in the provided seasons?\", standings_markdown)\n",
    "print(response)"
   ]
  }
 ],
 "metadata": {
  "kernelspec": {
   "display_name": "azure-ml",
   "language": "python",
   "name": "python3"
  },
  "language_info": {
   "codemirror_mode": {
    "name": "ipython",
    "version": 3
   },
   "file_extension": ".py",
   "mimetype": "text/x-python",
   "name": "python",
   "nbconvert_exporter": "python",
   "pygments_lexer": "ipython3",
   "version": "3.9.19"
  }
 },
 "nbformat": 4,
 "nbformat_minor": 2
}
