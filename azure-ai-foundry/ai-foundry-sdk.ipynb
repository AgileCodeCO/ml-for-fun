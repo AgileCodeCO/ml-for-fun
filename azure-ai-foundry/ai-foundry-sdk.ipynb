{
 "cells": [
  {
   "cell_type": "markdown",
   "id": "477869d6",
   "metadata": {},
   "source": [
    "## Generative AI Chat App"
   ]
  },
  {
   "cell_type": "code",
   "execution_count": 2,
   "id": "2209034d",
   "metadata": {},
   "outputs": [],
   "source": [
    "import os\n",
    "from dotenv import load_dotenv\n",
    "from azure.identity import DefaultAzureCredential\n",
    "from azure.ai.projects import AIProjectClient\n",
    "from openai import AzureOpenAI"
   ]
  },
  {
   "cell_type": "code",
   "execution_count": 4,
   "id": "f1e22e15",
   "metadata": {},
   "outputs": [
    {
     "name": "stdout",
     "output_type": "stream",
     "text": [
      "Using project endpoint: https://ai-foundry-research.services.ai.azure.com/api/projects/Default Project\n",
      "Response: The fastest animal on Earth is the peregrine falcon. When in a hunting dive, known as a stoop, it can reach speeds over 240 miles per hour (386 kilometers per hour). This makes it not only the fastest bird but also the fastest member of the animal kingdom when considering the speed achieved during flight.\n",
      "Response: You can find peregrine falcons in many parts of the world, as they inhabit a wide range of environments from Arctic tundras to tropical rainforests, and even urban areas. They are commonly found on every continent except Antarctica.\n",
      "\n",
      "Urban environments, surprisingly, are some of the easier places to spot peregrine falcons, particularly on tall buildings or other structures which mimic their natural cliffside nesting sites. Many cities even have programs or webcams set up to watch peregrine falcons that nest on skyscrapers or under bridges.\n",
      "\n",
      "To increase your chances of seeing a peregrine falcon in a more natural setting, you might visit national parks, coastlines, and river valleys, where they often hunt for birds and other prey. Local wildlife reserves or bird-watching societies can provide specific locations and times of year that are best for spotting these impressive birds in your area.\n",
      "Response: The peregrine falcon was once considered endangered, particularly in the mid-20th century, primarily due to pesticide exposure from chemicals like DDT, which weakened eggshells and led to significant population declines. However, thanks to extensive conservation efforts including banning harmful pesticides, breeding programs, and legal protections, the species has made a remarkable recovery.\n",
      "\n",
      "As of now, the peregrine falcon is classified as \"Least Concern\" by the International Union for Conservation of Nature (IUCN), indicating that it is no longer considered at immediate risk of extinction on a global scale. However, certain subspecies and local populations may still face threats from habitat loss, hunting, and pollution, so conservation efforts continue to be important.\n"
     ]
    }
   ],
   "source": [
    "# Load environment variables from .env file\n",
    "load_dotenv()\n",
    "# Get environment variables\n",
    "project_endpoint = os.getenv(\"PROJECT_ENDPOINT\")\n",
    "model_deployment = os.getenv(\"MODEL_DEPLOYMENT\")\n",
    "\n",
    "print(f\"Using project endpoint: {project_endpoint}\")\n",
    "\n",
    "project_client = AIProjectClient(\n",
    "    endpoint = project_endpoint,\n",
    "    credential = DefaultAzureCredential(\n",
    "        exclude_environment_credential=True,\n",
    "        exclude_managed_identity_credential=True,\n",
    "    )\n",
    ")\n",
    "\n",
    "openai_client = project_client.inference.get_azure_openai_client(api_version=\"2025-01-01-preview\")\n",
    "\n",
    "prompt = [\n",
    "    {\n",
    "        \"role\": \"system\",\n",
    "        \"content\": \"You are a helpful assistant that answers questions.\"\n",
    "    }\n",
    "]\n",
    "\n",
    " # Loop until the user types 'quit'\n",
    "while True:\n",
    "    # Get input text\n",
    "    input_text = input(\"Enter the prompt (or type 'quit' to exit): \")\n",
    "    if input_text.lower() == \"quit\":\n",
    "        break\n",
    "    if len(input_text) == 0:\n",
    "        print(\"Please enter a prompt.\")\n",
    "        continue\n",
    "    \n",
    "    # Get a chat completion\n",
    "    prompt.append({\n",
    "        \"role\": \"user\",\n",
    "        \"content\": input_text\n",
    "    })\n",
    "    \n",
    "    response = openai_client.chat.completions.create(\n",
    "        model=model_deployment,\n",
    "        messages=prompt)\n",
    "    \n",
    "    completion = response.choices[0].message.content\n",
    "    print(f\"Response: {completion}\")\n",
    "    # Append the assistant's response to the prompt\n",
    "    prompt.append({\n",
    "        \"role\": \"assistant\",\n",
    "        \"content\": completion\n",
    "    })"
   ]
  }
 ],
 "metadata": {
  "kernelspec": {
   "display_name": "azure-ml",
   "language": "python",
   "name": "python3"
  },
  "language_info": {
   "codemirror_mode": {
    "name": "ipython",
    "version": 3
   },
   "file_extension": ".py",
   "mimetype": "text/x-python",
   "name": "python",
   "nbconvert_exporter": "python",
   "pygments_lexer": "ipython3",
   "version": "3.11.8"
  }
 },
 "nbformat": 4,
 "nbformat_minor": 5
}
