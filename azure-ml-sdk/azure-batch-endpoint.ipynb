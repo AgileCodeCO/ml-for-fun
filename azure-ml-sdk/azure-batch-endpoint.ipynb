{
 "cells": [
  {
   "cell_type": "markdown",
   "metadata": {},
   "source": [
    "## Deploy model to an batch endpoint"
   ]
  },
  {
   "cell_type": "code",
   "execution_count": null,
   "metadata": {},
   "outputs": [],
   "source": [
    "# Import credentials\n",
    "from resource_credentials import (subscription_key, \n",
    "    resource_group_name, \n",
    "    workspace_name)\n",
    "\n",
    "from azure.ai.ml import MLClient\n",
    "from azure.identity import DefaultAzureCredential\n",
    "\n",
    "# Create a ml client\n",
    "ml_client = MLClient(credential=DefaultAzureCredential(), \n",
    "                     subscription_id=subscription_key, \n",
    "                     resource_group_name=resource_group_name,\n",
    "                     workspace_name=workspace_name)"
   ]
  },
  {
   "cell_type": "markdown",
   "metadata": {},
   "source": [
    "### Create endpoint"
   ]
  },
  {
   "cell_type": "code",
   "execution_count": null,
   "metadata": {},
   "outputs": [],
   "source": [
    "from azure.ai.ml.entities import BatchEndpoint\n",
    "\n",
    "endpoint_name = \"diabetes-model-batch-endpoint\"\n",
    "\n",
    "endpoint = BatchEndpoint(\n",
    "    name=endpoint_name\n",
    ")\n",
    "\n",
    "ml_client.begin_create_or_update(endpoint).result()"
   ]
  },
  {
   "cell_type": "markdown",
   "metadata": {},
   "source": [
    "### Configure and create deployment"
   ]
  },
  {
   "cell_type": "code",
   "execution_count": null,
   "metadata": {},
   "outputs": [],
   "source": [
    "from azure.ai.ml.entities import Model, BatchDeployment, BatchRetrySettings\n",
    "from azure.ai.ml.constants import AssetTypes, BatchDeploymentOutputAction\n",
    "\n",
    "# Register local model\n",
    "model = Model(\n",
    "    path=\"./src/model\",\n",
    "    type=AssetTypes.MLFLOW_MODEL,\n",
    "    name=\"mlflow-diabetes-model-local\"\n",
    ")\n",
    "\n",
    "ml_client.models.create_or_update(model)"
   ]
  },
  {
   "cell_type": "code",
   "execution_count": null,
   "metadata": {},
   "outputs": [],
   "source": [
    "# Create batch deployment\n",
    "deployment = BatchDeployment(\n",
    "    name=\"diabetes-model-batch-deployment\",\n",
    "    endpoint_name=endpoint_name,\n",
    "    model=model,\n",
    "    compute=\"compute-cluster-sdk\",\n",
    "    instance_count=1,\n",
    "    max_concurrency_per_instance=2,\n",
    "    mini_batch_size=2,\n",
    "    output_action=BatchDeploymentOutputAction.APPEND_ROW,\n",
    "    output_file_name=\"BatchPredictions.csv\",\n",
    "    retry_settings=BatchRetrySettings(max_retries=3, timeout=300),\n",
    "    logging_level= \"info\"\n",
    ")\n",
    "\n",
    "ml_client.batch_deployments.begin_create_or_update(deployment).result()"
   ]
  },
  {
   "cell_type": "code",
   "execution_count": null,
   "metadata": {},
   "outputs": [],
   "source": [
    "# Set default deployment\n",
    "\n",
    "endpoint.defaults = {}\n",
    "\n",
    "endpoint.defaults[\"deployment_name\"] = deployment.name\n",
    "\n",
    "ml_client.batch_endpoints.begin_create_or_update(endpoint)"
   ]
  },
  {
   "cell_type": "markdown",
   "metadata": {},
   "source": [
    "### Prepare data for batch predictions"
   ]
  },
  {
   "cell_type": "code",
   "execution_count": null,
   "metadata": {},
   "outputs": [],
   "source": [
    "from azure.ai.ml.entities import Data\n",
    "from azure.ai.ml.constants import AssetTypes\n",
    "\n",
    "data_path = \"./src/batch-data\"\n",
    "dataset_name = \"diabetes-data-for-batch\"\n",
    "\n",
    "dataset = Data(\n",
    "    path=data_path,\n",
    "    type=AssetTypes.URI_FOLDER,\n",
    "    name=dataset_name\n",
    ")\n",
    "\n",
    "ml_client.data.create_or_update(dataset)\n",
    "\n",
    "dataset = ml_client.data.get(name=dataset_name, label=\"latest\")"
   ]
  },
  {
   "cell_type": "markdown",
   "metadata": {},
   "source": [
    "### Submit Batch Job"
   ]
  },
  {
   "cell_type": "code",
   "execution_count": null,
   "metadata": {},
   "outputs": [],
   "source": [
    "from azure.ai.ml import Input\n",
    "\n",
    "input = Input(type=AssetTypes.URI_FOLDER, path=dataset.id)\n",
    "\n",
    "# Test endpoint\n",
    "job = ml_client.batch_endpoints.invoke(\n",
    "    endpoint_name=endpoint_name,\n",
    "    input=input\n",
    ")\n",
    "\n",
    "ml_client.jobs.get(job.name)\n",
    "\n",
    "print(job)"
   ]
  }
 ],
 "metadata": {
  "kernelspec": {
   "display_name": "azure-ml",
   "language": "python",
   "name": "python3"
  },
  "language_info": {
   "codemirror_mode": {
    "name": "ipython",
    "version": 3
   },
   "file_extension": ".py",
   "mimetype": "text/x-python",
   "name": "python",
   "nbconvert_exporter": "python",
   "pygments_lexer": "ipython3",
   "version": "3.11.9"
  }
 },
 "nbformat": 4,
 "nbformat_minor": 2
}
