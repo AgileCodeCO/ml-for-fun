{
 "cells": [
  {
   "cell_type": "code",
   "execution_count": null,
   "metadata": {},
   "outputs": [],
   "source": [
    "# Import credentials\n",
    "from resource_credentials import (subscription_key, \n",
    "    resource_group_name, \n",
    "    workspace_name,\n",
    "    datastore_name,\n",
    "    storage_account_name,\n",
    "    blob_container_name,\n",
    "    storage_account_key,\n",
    "    data_asset_name)\n",
    "\n",
    "from azure.ai.ml import MLClient\n",
    "from azure.ai.ml.entities import Workspace\n",
    "from azure.identity import DefaultAzureCredential"
   ]
  },
  {
   "cell_type": "markdown",
   "metadata": {},
   "source": [
    "## Create Workspace"
   ]
  },
  {
   "cell_type": "code",
   "execution_count": null,
   "metadata": {},
   "outputs": [],
   "source": [
    "# Create a ml client\n",
    "ml_client = MLClient(credential=DefaultAzureCredential(), \n",
    "                     subscription_id=subscription_key, \n",
    "                     resource_group_name=resource_group_name)\n",
    "\n",
    "# Define the workspace\n",
    "ws = Workspace(name=workspace_name, location=\"eastus\") \n",
    "\n",
    "ws = ml_client.workspaces.begin_create(ws).result()\n",
    "print(ws)"
   ]
  },
  {
   "cell_type": "markdown",
   "metadata": {},
   "source": [
    "### List workspaces"
   ]
  },
  {
   "cell_type": "code",
   "execution_count": null,
   "metadata": {},
   "outputs": [],
   "source": [
    "current_workspaces = ml_client.workspaces.list()\n",
    "for workspace in current_workspaces:\n",
    "    print(workspace.name)"
   ]
  },
  {
   "cell_type": "markdown",
   "metadata": {},
   "source": [
    "## Create and register a Datastore"
   ]
  },
  {
   "cell_type": "code",
   "execution_count": null,
   "metadata": {},
   "outputs": [],
   "source": [
    "from azure.ai.ml.entities import AzureBlobDatastore, AccountKeyConfiguration\n",
    "\n",
    "ml_client = MLClient(credential=DefaultAzureCredential(), \n",
    "                     subscription_id=subscription_key, \n",
    "                     resource_group_name=resource_group_name,\n",
    "                     workspace_name=workspace_name)\n",
    "# Define the datastore\n",
    "datastore = AzureBlobDatastore(name=datastore_name, \n",
    "                                account_name=storage_account_name, \n",
    "                                container_name=blob_container_name, \n",
    "                                credentials=AccountKeyConfiguration(account_key = storage_account_key ))\n",
    "\n",
    "datastore = ml_client.create_or_update(datastore)"
   ]
  },
  {
   "cell_type": "markdown",
   "metadata": {},
   "source": [
    "### Add a dataset to a datastore"
   ]
  },
  {
   "cell_type": "code",
   "execution_count": null,
   "metadata": {},
   "outputs": [],
   "source": [
    "from azure.ai.ml.entities import Data\n",
    "from azure.ai.ml.constants import AssetTypes\n",
    "\n",
    "# Get the datastore\n",
    "datastore = ml_client.datastores.get(datastore_name)\n",
    "\n",
    "# Define path with the datastore name\n",
    "path = \"azureml://datastores/\" + datastore_name + \"/paths/loan-data/Loan+Approval+Prediction.csv\"\n",
    "data_asset = Data(name=data_asset_name, \n",
    "                  type=AssetTypes.URI_FILE, \n",
    "                  path=path)\n",
    "\n",
    "ml_client.data.create_or_update(data_asset)"
   ]
  }
 ],
 "metadata": {
  "kernelspec": {
   "display_name": "azure-ml",
   "language": "python",
   "name": "python3"
  },
  "language_info": {
   "codemirror_mode": {
    "name": "ipython",
    "version": 3
   },
   "file_extension": ".py",
   "mimetype": "text/x-python",
   "name": "python",
   "nbconvert_exporter": "python",
   "pygments_lexer": "ipython3",
   "version": "3.11.8"
  }
 },
 "nbformat": 4,
 "nbformat_minor": 2
}
