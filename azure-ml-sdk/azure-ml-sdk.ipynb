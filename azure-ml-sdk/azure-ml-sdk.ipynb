{
 "cells": [
  {
   "cell_type": "code",
   "execution_count": 1,
   "metadata": {},
   "outputs": [],
   "source": [
    "# Import credentials\n",
    "from resource_credentials import subscription_key, resource_group_name, workspace_name"
   ]
  },
  {
   "cell_type": "markdown",
   "metadata": {},
   "source": [
    "## Create Workspace"
   ]
  },
  {
   "cell_type": "code",
   "execution_count": null,
   "metadata": {},
   "outputs": [],
   "source": [
    "from azure.ai.ml import MLClient\n",
    "from azure.ai.ml.entities import Workspace\n",
    "from azure.identity import DefaultAzureCredential\n",
    "\n",
    "# Create a ml client\n",
    "ml_client = MLClient(credential=DefaultAzureCredential(), \n",
    "                     subscription_id=subscription_key, \n",
    "                     resource_group_name=resource_group_name)\n",
    "\n",
    "# Define the workspace\n",
    "ws = Workspace(name=workspace_name, location=\"eastus\") \n",
    "\n",
    "ws = ml_client.workspaces.begin_create(ws).result()\n",
    "print(ws)\n"
   ]
  },
  {
   "cell_type": "markdown",
   "metadata": {},
   "source": [
    "### List workspaces"
   ]
  },
  {
   "cell_type": "code",
   "execution_count": 3,
   "metadata": {},
   "outputs": [
    {
     "name": "stdout",
     "output_type": "stream",
     "text": [
      "dp100-certification\n",
      "dp100-certification-sdk\n"
     ]
    }
   ],
   "source": [
    "current_workspaces = ml_client.workspaces.list()\n",
    "for workspace in current_workspaces:\n",
    "    print(workspace.name)"
   ]
  }
 ],
 "metadata": {
  "kernelspec": {
   "display_name": "azure-ml",
   "language": "python",
   "name": "python3"
  },
  "language_info": {
   "codemirror_mode": {
    "name": "ipython",
    "version": 3
   },
   "file_extension": ".py",
   "mimetype": "text/x-python",
   "name": "python",
   "nbconvert_exporter": "python",
   "pygments_lexer": "ipython3",
   "version": "3.11.8"
  }
 },
 "nbformat": 4,
 "nbformat_minor": 2
}
