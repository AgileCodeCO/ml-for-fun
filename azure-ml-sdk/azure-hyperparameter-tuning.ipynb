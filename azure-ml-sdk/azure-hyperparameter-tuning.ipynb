{
 "cells": [
  {
   "cell_type": "markdown",
   "metadata": {},
   "source": [
    "### Hyperparameter Tuning"
   ]
  },
  {
   "cell_type": "code",
   "execution_count": null,
   "metadata": {},
   "outputs": [],
   "source": [
    "from resource_credentials import (subscription_key, \n",
    "    resource_group_name, \n",
    "    workspace_name)\n",
    "\n",
    "from azure.ai.ml import MLClient\n",
    "from azure.identity import DefaultAzureCredential\n",
    "\n",
    "# Getting client\n",
    "ml_client = MLClient(credential=DefaultAzureCredential(), \n",
    "                     subscription_id=subscription_key, \n",
    "                     resource_group_name=resource_group_name,\n",
    "                     workspace_name=workspace_name)"
   ]
  },
  {
   "cell_type": "code",
   "execution_count": null,
   "metadata": {},
   "outputs": [],
   "source": [
    "from azure.ai.ml import command\n",
    "\n",
    "# create job\n",
    "job = command(\n",
    "    code=\"./src\",\n",
    "    command=\"python train-classification-model.py --training-data diabetes.csv --reg_rate ${{inputs.reg_rate}}\",\n",
    "    environment=\"AzureML-sklearn-0.24-ubuntu18.04-py37-cpu@latest\",\n",
    "    compute=\"compute-instance-sdk\",\n",
    "    experiment_name=\"diabetes-training-tunning\",\n",
    "    inputs={\n",
    "        \"reg_rate\": 0.01,\n",
    "    },\n",
    ")\n",
    "\n",
    "# submit job\n",
    "returned_job = ml_client.create_or_update(job)\n",
    "aml_url = returned_job.studio_url\n",
    "print(\"Monitor your job at\", aml_url)"
   ]
  },
  {
   "cell_type": "code",
   "execution_count": null,
   "metadata": {},
   "outputs": [],
   "source": [
    "# Define the search space for hyperparameter tuning\n",
    "from azure.ai.ml.sweep import Choice\n",
    "\n",
    "# Discrete hyperparameter space\n",
    "command_job = job(reg_rate=Choice([0.01, 0.1, 1.0]))\n",
    "\n",
    "sweep_job = command_job.sweep(\n",
    "    compute=\"compute-instance-sdk\",\n",
    "    sampling_algorithm=\"grid\",\n",
    "    primary_metric=\"Accuracy\",\n",
    "    goal=\"maximize\")\n",
    "\n",
    "sweep_job.experiment_name = \"diabetes-training-tunning\"\n",
    "\n",
    "sweep_job.set_limits(max_total_trials=4, max_concurrent_trials=2, timeout=7200)\n",
    "\n",
    "# submit job\n",
    "returned_job = ml_client.create_or_update(sweep_job)\n",
    "aml_url = returned_job.studio_url\n",
    "print(\"Monitor your job at\", aml_url)\n"
   ]
  }
 ],
 "metadata": {
  "kernelspec": {
   "display_name": "azure-ml",
   "language": "python",
   "name": "python3"
  },
  "language_info": {
   "codemirror_mode": {
    "name": "ipython",
    "version": 3
   },
   "file_extension": ".py",
   "mimetype": "text/x-python",
   "name": "python",
   "nbconvert_exporter": "python",
   "pygments_lexer": "ipython3",
   "version": "3.11.9"
  }
 },
 "nbformat": 4,
 "nbformat_minor": 2
}
