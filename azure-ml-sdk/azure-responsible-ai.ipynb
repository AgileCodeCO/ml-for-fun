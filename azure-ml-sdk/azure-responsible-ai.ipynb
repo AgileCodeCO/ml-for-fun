{
 "cells": [
  {
   "cell_type": "markdown",
   "metadata": {},
   "source": [
    "## Create Responsible AI Dashboard"
   ]
  },
  {
   "cell_type": "code",
   "execution_count": null,
   "metadata": {},
   "outputs": [],
   "source": [
    "# Import credentials\n",
    "from resource_credentials import (subscription_key, \n",
    "    resource_group_name, \n",
    "    workspace_name)\n",
    "\n",
    "from azure.ai.ml import MLClient\n",
    "from azure.identity import DefaultAzureCredential\n",
    "\n",
    "# Create a ml client\n",
    "ml_client = MLClient(credential=DefaultAzureCredential(), \n",
    "                     subscription_id=subscription_key, \n",
    "                     resource_group_name=resource_group_name,\n",
    "                     workspace_name=workspace_name)"
   ]
  },
  {
   "cell_type": "markdown",
   "metadata": {},
   "source": [
    "### Separate train and test data"
   ]
  },
  {
   "cell_type": "code",
   "execution_count": null,
   "metadata": {},
   "outputs": [],
   "source": [
    "from sklearn.model_selection import train_test_split\n",
    "import pandas as pd\n",
    "import os\n",
    "\n",
    "# Split data into training and testing sets\n",
    "diabetes_data = pd.read_csv('./src/ml-table/diabetes.csv')\n",
    "\n",
    "diabetes_data.drop('PatientID', axis=1, inplace=True)\n",
    "\n",
    "train_data, test_data = train_test_split(diabetes_data, test_size=0.2, random_state=42, shuffle=True)\n",
    "\n",
    "# Save train and test data to csv\n",
    "if not os.path.exists('./src/ml-table-train'):\n",
    "    os.makedirs('./src/ml-table-train')\n",
    "if not os.path.exists('./src/ml-table-test'):\n",
    "    os.makedirs('./src/ml-table-test')\n",
    "    \n",
    "train_data.to_csv('./src/ml-table-train/diabetes-train.csv', index=False)\n",
    "test_data.to_csv('./src/ml-table-test/diabetes-test.csv', index=False)"
   ]
  },
  {
   "cell_type": "code",
   "execution_count": null,
   "metadata": {},
   "outputs": [],
   "source": [
    "from azure.ai.ml.entities import Data\n",
    "from azure.ai.ml.constants import AssetTypes\n",
    "\n",
    "# Register train dataset\n",
    "data_asset_path = \"./src/ml-table-train\"\n",
    "\n",
    "data = Data(path=data_asset_path, \n",
    "            type=AssetTypes.MLTABLE,\n",
    "            name=\"diabetes-table-train\")\n",
    "\n",
    "train_data = ml_client.data.create_or_update(data)\n",
    "\n",
    "# Register test dataset\n",
    "data_asset_path = \"./src/ml-table-test\"\n",
    "\n",
    "data = Data(path=data_asset_path, \n",
    "            type=AssetTypes.MLTABLE,\n",
    "            name=\"diabetes-table-test\")\n",
    "\n",
    "test_data = ml_client.data.create_or_update(data)"
   ]
  },
  {
   "cell_type": "markdown",
   "metadata": {},
   "source": [
    "### Get model"
   ]
  },
  {
   "cell_type": "code",
   "execution_count": null,
   "metadata": {},
   "outputs": [],
   "source": [
    "model = ml_client.models.get(\"mlflow-diabetes-model\", version=1)\n",
    "\n",
    "model_name = model.name\n",
    "expected_model_id = f\"{model_name}:1\"\n",
    "azureml_model_id = f\"azureml:{expected_model_id}\"\n",
    "\n",
    "print(model.name)"
   ]
  },
  {
   "cell_type": "markdown",
   "metadata": {},
   "source": [
    "### Import dashboard components\n"
   ]
  },
  {
   "cell_type": "code",
   "execution_count": null,
   "metadata": {},
   "outputs": [],
   "source": [
    "## Create registry client\n",
    "ml_registry_client = MLClient(credential=DefaultAzureCredential(), \n",
    "                     subscription_id=subscription_key, \n",
    "                     resource_group_name=resource_group_name,\n",
    "                     registry_name=\"azureml\")"
   ]
  },
  {
   "cell_type": "code",
   "execution_count": null,
   "metadata": {},
   "outputs": [],
   "source": [
    "rai_constructor_component = ml_registry_client.components.get(\n",
    "    name=\"microsoft_azureml_rai_tabular_insight_constructor\", label=\"latest\"\n",
    ")\n",
    "\n",
    "print(rai_constructor_component.version)\n",
    "\n",
    "rai_erroranalysis_component = ml_registry_client.components.get(\n",
    "    name=\"microsoft_azureml_rai_tabular_erroranalysis\", version=rai_constructor_component.version\n",
    ")\n",
    "\n",
    "rai_explanation_component = ml_registry_client.components.get(\n",
    "    name=\"microsoft_azureml_rai_tabular_explanation\", version=rai_constructor_component.version\n",
    ")\n",
    "\n",
    "rai_gather_component = ml_registry_client.components.get(\n",
    "    name=\"microsoft_azureml_rai_tabular_insight_gather\", version=rai_constructor_component.version\n",
    ")"
   ]
  },
  {
   "cell_type": "markdown",
   "metadata": {},
   "source": [
    "### Create pipeline"
   ]
  },
  {
   "cell_type": "code",
   "execution_count": null,
   "metadata": {},
   "outputs": [],
   "source": [
    "from azure.ai.ml.dsl import pipeline\n",
    "from azure.ai.ml.constants import AssetTypes\n",
    "from azure.ai.ml import Input, Output\n",
    "\n",
    "@pipeline(experiment_name=\"rai-diabetes-pipeline\", compute=\"compute-instance-sdk\")\n",
    "def rai_decision_pipeline(target_column_name, train_data, test_data):\n",
    "     # Initiate the RAIInsights\n",
    "    create_rai_job = rai_constructor_component(\n",
    "        title=\"RAI dashboard diabetes\",\n",
    "        task_type=\"classification\",\n",
    "        model_info=expected_model_id,\n",
    "        model_input=Input(type=AssetTypes.MLFLOW_MODEL, path=azureml_model_id),\n",
    "        train_dataset=train_data,\n",
    "        test_dataset=test_data,\n",
    "        target_column_name=target_column_name\n",
    "    )\n",
    "    create_rai_job.set_limits(timeout=300)\n",
    "\n",
    "    # Add error analysis\n",
    "    error_job = rai_erroranalysis_component(\n",
    "        rai_insights_dashboard=create_rai_job.outputs.rai_insights_dashboard,\n",
    "    )\n",
    "    error_job.set_limits(timeout=300)\n",
    "\n",
    "    # Add explanations\n",
    "    explanation_job = rai_explanation_component(\n",
    "        rai_insights_dashboard=create_rai_job.outputs.rai_insights_dashboard,\n",
    "        comment=\"add explanation\", \n",
    "    )\n",
    "    explanation_job.set_limits(timeout=300)\n",
    "\n",
    "    # Combine everything\n",
    "    rai_gather_job = rai_gather_component(\n",
    "        constructor=create_rai_job.outputs.rai_insights_dashboard,\n",
    "        insight_3=error_job.outputs.error_analysis,\n",
    "        insight_4=explanation_job.outputs.explanation,\n",
    "    )\n",
    "    rai_gather_job.set_limits(timeout=300)\n",
    "\n",
    "    rai_gather_job.outputs.dashboard.mode = \"upload\"\n",
    "\n",
    "    return {\n",
    "        \"dashboard\": rai_gather_job.outputs.dashboard,\n",
    "    }"
   ]
  },
  {
   "cell_type": "markdown",
   "metadata": {},
   "source": [
    "### Create inputs and submit pipeline"
   ]
  },
  {
   "cell_type": "code",
   "execution_count": null,
   "metadata": {},
   "outputs": [],
   "source": [
    "import uuid\n",
    "target_feature = \"Diabetic\"\n",
    "\n",
    "diabetes_train = Input(\n",
    "    type=AssetTypes.MLTABLE,\n",
    "    path=f\"azureml:diabetes-table-train:{train_data.version}\",\n",
    "    mode=\"download\",\n",
    ")\n",
    "diabetes_test = Input(\n",
    "    type=AssetTypes.MLTABLE,\n",
    "    path=f\"azureml:diabetes-table-test:{test_data.version}\",\n",
    "    mode=\"download\",\n",
    ")\n",
    "\n",
    "rai_pipeline = rai_decision_pipeline(\n",
    "    target_column_name=target_feature,\n",
    "    train_data=diabetes_train,\n",
    "    test_data=diabetes_test\n",
    ")\n",
    "\n",
    "rand_path = str(uuid.uuid4())\n",
    "rai_pipeline.outputs.dashboard = Output(\n",
    "    path=f\"azureml://datastores/workspaceblobstore/paths/{rand_path}/dashboard/\",\n",
    "    mode=\"upload\",\n",
    "    type=\"uri_folder\",\n",
    ")\n",
    "\n",
    "rai_pipeline_job = ml_client.jobs.create_or_update(rai_pipeline)"
   ]
  }
 ],
 "metadata": {
  "kernelspec": {
   "display_name": "azure-ml",
   "language": "python",
   "name": "python3"
  },
  "language_info": {
   "codemirror_mode": {
    "name": "ipython",
    "version": 3
   },
   "file_extension": ".py",
   "mimetype": "text/x-python",
   "name": "python",
   "nbconvert_exporter": "python",
   "pygments_lexer": "ipython3",
   "version": "3.11.9"
  }
 },
 "nbformat": 4,
 "nbformat_minor": 2
}
