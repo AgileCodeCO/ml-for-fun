{
  "cells": [
    {
      "cell_type": "markdown",
      "metadata": {
        "id": "K68Qds9PLlUH"
      },
      "source": [
        "### Enunciado proyecto práctico"
      ]
    },
    {
      "cell_type": "markdown",
      "metadata": {
        "id": "PPoPaJxaLpX7"
      },
      "source": [
        "Consideraciones a tener en cuenta:\n",
        "\n",
        "- El entorno sobre el que trabajaremos será _SpaceInvaders-v0_ y el algoritmo que usaremos será _DQN_.\n",
        "\n",
        "- Para nuestro ejercicio, una solución óptima será alcanzada cuando el agente consiga una **media de recompensa por encima de 20 puntos en modo test**. Por ello, esta media de la recompensa se calculará a partir del código de test en la última celda del notebook."
      ]
    },
    {
      "cell_type": "markdown",
      "metadata": {
        "id": "uVE7zUwaLuWG"
      },
      "source": [
        "Este proyecto práctico consta de tres partes:\n",
        "\n",
        "   1) Implementar la red neuronal que se usará en la solución\n",
        "    \n",
        "   2) Implementar las distintas piezas de la solución DQN\n",
        "    \n",
        "   3) Justificar la respuesta en relación a los resultados obtenidos"
      ]
    },
    {
      "cell_type": "markdown",
      "metadata": {
        "id": "k4a37KiiL0lQ"
      },
      "source": [
        "IMPORTANTE:\n",
        "\n",
        "- Si no se consigue una puntuación óptima, responder sobre la mejor puntuación obtenida.\n",
        "\n",
        "- Para entrenamientos largos, recordad que podéis usar checkpoints de vuestros modelos para retomar los entrenamientos. En este caso, recordad cambiar los parámetros adecuadamente (sobre todo los relacionados con el proceso de exploración).\n",
        "\n",
        "- Tened en cuenta que las versiones de librerías recomendadas son Tensorflow==1.13.1, Keras==2.2.4 y keras-rl==0.4.2"
      ]
    },
    {
      "cell_type": "markdown",
      "metadata": {
        "id": "nUSe9qGzZB5s"
      },
      "source": [
        "### Instalar librerías"
      ]
    },
    {
      "cell_type": "code",
      "execution_count": null,
      "metadata": {
        "id": "mx_n2H3cewtZ"
      },
      "outputs": [],
      "source": [
        "!pip install gym\n",
        "\n",
        "!pip install h5py==2.10.0\n",
        "\n",
        "!pip install Pillow\n",
        "\n",
        "!pip install gym[atari,accept-rom-license]\n",
        "\n",
        "!pip install keras-rl==0.4.2\n",
        "\n",
        "!pip install tensorflow==1.13.1\n",
        "\n",
        "!pip install Keras==2.2.4\n",
        "\n",
        "!pip install torch\n",
        "\n",
        "#!pip install atari-py #Optional\n",
        "\n",
        "#!pip install pyglet #Optional"
      ]
    },
    {
      "cell_type": "code",
      "execution_count": 2,
      "metadata": {
        "colab": {
          "base_uri": "https://localhost:8080/"
        },
        "id": "T0qDYfH1ZB51",
        "outputId": "5d5f79a6-4b3d-409a-87aa-127ee3fb388c"
      },
      "outputs": [
        {
          "name": "stdout",
          "output_type": "stream",
          "text": [
            "Keras==2.2.4\n",
            "Keras-Applications==1.0.8\n",
            "Keras-Preprocessing==1.1.2\n"
          ]
        }
      ],
      "source": [
        "!pip freeze | grep Keras"
      ]
    },
    {
      "cell_type": "code",
      "execution_count": 3,
      "metadata": {
        "colab": {
          "base_uri": "https://localhost:8080/"
        },
        "id": "oCdOf9ukZB52",
        "outputId": "def6f0b5-5916-4316-a509-e7587507fec4"
      },
      "outputs": [
        {
          "name": "stdout",
          "output_type": "stream",
          "text": [
            "keras-rl==0.4.2\n"
          ]
        }
      ],
      "source": [
        "!pip freeze | grep keras-rl"
      ]
    },
    {
      "cell_type": "code",
      "execution_count": 4,
      "metadata": {
        "colab": {
          "base_uri": "https://localhost:8080/"
        },
        "id": "kPO4UtbIZB53",
        "outputId": "fa13920e-5d77-4e0b-8159-80f7de0d9093"
      },
      "outputs": [
        {
          "name": "stdout",
          "output_type": "stream",
          "text": [
            "tensorflow==1.13.1\n",
            "tensorflow-datasets==4.0.1\n",
            "tensorflow-estimator==1.13.0\n",
            "tensorflow-gcs-config==2.7.0\n",
            "tensorflow-hub==0.12.0\n",
            "tensorflow-io-gcs-filesystem==0.22.0\n",
            "tensorflow-metadata==1.4.0\n",
            "tensorflow-probability==0.15.0\n"
          ]
        }
      ],
      "source": [
        "!pip freeze | grep tensorflow"
      ]
    },
    {
      "cell_type": "code",
      "execution_count": null,
      "metadata": {
        "id": "jPq3IKjhZB6B"
      },
      "outputs": [],
      "source": [
        "from __future__ import division\n",
        "\n",
        "from PIL import Image\n",
        "import numpy as np\n",
        "import gym\n",
        "\n",
        "from keras.models import Sequential\n",
        "from keras.layers import Dense, Activation, Flatten, Convolution2D, Permute, MaxPooling2D\n",
        "from keras.optimizers import Adam\n",
        "import keras.backend as K\n",
        "\n",
        "from rl.agents.dqn import DQNAgent\n",
        "from rl.policy import LinearAnnealedPolicy, BoltzmannQPolicy, EpsGreedyQPolicy\n",
        "from rl.memory import SequentialMemory\n",
        "from rl.core import Processor\n",
        "from rl.callbacks import FileLogger, ModelIntervalCheckpoint\n",
        "\n",
        "import matplotlib.pyplot as plt\n",
        "import json"
      ]
    },
    {
      "cell_type": "markdown",
      "metadata": {
        "id": "zMILUQobONJJ"
      },
      "source": [
        "### Configuración base"
      ]
    },
    {
      "cell_type": "markdown",
      "metadata": {
        "id": "EMbJ5b83Q_Wx"
      },
      "source": [
        "#### Descarga Atari ROMS"
      ]
    },
    {
      "cell_type": "code",
      "execution_count": 6,
      "metadata": {
        "colab": {
          "base_uri": "https://localhost:8080/"
        },
        "id": "aof45PstNbPE",
        "outputId": "a6190cdd-04b3-461d-c39c-d0f9d71db641"
      },
      "outputs": [
        {
          "name": "stdout",
          "output_type": "stream",
          "text": [
            "--2021-12-17 17:53:31--  http://www.atarimania.com/roms/Roms.rar\n",
            "Resolving www.atarimania.com (www.atarimania.com)... 195.154.81.199\n",
            "Connecting to www.atarimania.com (www.atarimania.com)|195.154.81.199|:80... connected.\n",
            "HTTP request sent, awaiting response... 200 OK\n",
            "Length: 11128004 (11M) [application/x-rar-compressed]\n",
            "Saving to: ‘Roms.rar’\n",
            "\n",
            "Roms.rar            100%[===================>]  10.61M   647KB/s    in 17s     \n",
            "\n",
            "2021-12-17 17:53:49 (624 KB/s) - ‘Roms.rar’ saved [11128004/11128004]\n",
            "\n"
          ]
        }
      ],
      "source": [
        "# habilitar la primera vez\n",
        "! wget http://www.atarimania.com/roms/Roms.rar"
      ]
    },
    {
      "cell_type": "code",
      "execution_count": 7,
      "metadata": {
        "id": "vw-cQ82nNQSk"
      },
      "outputs": [],
      "source": [
        "! mkdir /content/ROM/"
      ]
    },
    {
      "cell_type": "code",
      "execution_count": 8,
      "metadata": {
        "colab": {
          "base_uri": "https://localhost:8080/"
        },
        "id": "Rrt0TX1xNgz9",
        "outputId": "943ea4c0-9856-4939-acf8-e8c6f08dce96"
      },
      "outputs": [
        {
          "name": "stdout",
          "output_type": "stream",
          "text": [
            "\n",
            "UNRAR 5.50 freeware      Copyright (c) 1993-2017 Alexander Roshal\n",
            "\n",
            "\n",
            "Extracting from /content/Roms.rar\n",
            "\n",
            "Extracting  /content/ROM/HC ROMS.zip                                     \b\b\b\b 36%\b\b\b\b\b  OK \n",
            "Extracting  /content/ROM/ROMS.zip                                        \b\b\b\b 74%\b\b\b\b 99%\b\b\b\b\b  OK \n",
            "All OK\n"
          ]
        }
      ],
      "source": [
        "! unrar e /content/Roms.rar /content/ROM/"
      ]
    },
    {
      "cell_type": "code",
      "execution_count": null,
      "metadata": {
        "id": "Lxoy8WOINSCL"
      },
      "outputs": [],
      "source": [
        "! python -m atari_py.import_roms /content/ROM/"
      ]
    },
    {
      "cell_type": "markdown",
      "metadata": {
        "id": "r1NpGyDwiEcB"
      },
      "source": [
        "### Experimento #1"
      ]
    },
    {
      "cell_type": "markdown",
      "metadata": {
        "id": "PVtwFKu4RP-y"
      },
      "source": [
        "#### Configuración del entorno"
      ]
    },
    {
      "cell_type": "code",
      "execution_count": 13,
      "metadata": {
        "id": "at1GwXMEZB6C"
      },
      "outputs": [],
      "source": [
        "#INPUT_SHAPE = (80, 80)\n",
        "INPUT_WIDTH = 84#105\n",
        "INPUT_HEIGHT = 84\n",
        "\n",
        "WINDOW_LENGTH = 4"
      ]
    },
    {
      "cell_type": "code",
      "execution_count": 53,
      "metadata": {
        "id": "YTYyEM3ZZB6C"
      },
      "outputs": [],
      "source": [
        "# In this example, we need to preprocess the observations\n",
        "class AtariProcessor(Processor):\n",
        "    def process_observation(self, observation):\n",
        "        assert observation.ndim == 3  # (height, width, channel)\n",
        "        #print(observation.shape)\n",
        "        img = Image.fromarray(observation)\n",
        "        img = img.resize((INPUT_HEIGHT,INPUT_WIDTH)).convert('L')\n",
        "        processed_observation = np.array(img)\n",
        "        #img.save(\"/content/observation.png\")\n",
        "        #print(processed_observation.shape)\n",
        "        assert processed_observation.shape == (INPUT_WIDTH,INPUT_HEIGHT)\n",
        "        return processed_observation.astype('uint8')\n",
        "\n",
        "    def process_state_batch(self, batch):\n",
        "        processed_batch = batch.astype('float32') / 255.\n",
        "        return processed_batch\n",
        "\n",
        "    def process_reward(self, reward):\n",
        "        return np.clip(reward, -1., 1.)"
      ]
    },
    {
      "cell_type": "code",
      "execution_count": 54,
      "metadata": {
        "colab": {
          "base_uri": "https://localhost:8080/"
        },
        "id": "luukZmMeZB6C",
        "outputId": "fc8baeda-2013-4569-bc88-16fd3a6cc2b5"
      },
      "outputs": [
        {
          "name": "stdout",
          "output_type": "stream",
          "text": [
            "Cantidad de acciones: 6\n",
            "Espacio de observaciones: Box(0, 255, (210, 160, 3), uint8)\n"
          ]
        }
      ],
      "source": [
        "# Get the environment and extract the number of actions.\n",
        "env_name = 'SpaceInvaders-v0'\n",
        "env = gym.make(env_name)\n",
        "np.random.seed(123)\n",
        "env.seed(123)\n",
        "nb_actions = env.action_space.n\n",
        "print(f\"Cantidad de acciones: {nb_actions}\")\n",
        "print(f\"Espacio de observaciones: {env.observation_space}\")"
      ]
    },
    {
      "cell_type": "markdown",
      "metadata": {
        "id": "1_eoP6UjOjPi"
      },
      "source": [
        "#### Implementación de la red neuronal"
      ]
    },
    {
      "cell_type": "code",
      "execution_count": 55,
      "metadata": {
        "colab": {
          "base_uri": "https://localhost:8080/"
        },
        "id": "IQ6OWQmPZB6E",
        "outputId": "8777fe5a-fda5-482b-f1aa-0ee15a6e59b0"
      },
      "outputs": [
        {
          "name": "stdout",
          "output_type": "stream",
          "text": [
            "_________________________________________________________________\n",
            "Layer (type)                 Output Shape              Param #   \n",
            "=================================================================\n",
            "permute_3 (Permute)          (None, 84, 84, 4)         0         \n",
            "_________________________________________________________________\n",
            "conv2d_7 (Conv2D)            (None, 20, 20, 32)        8224      \n",
            "_________________________________________________________________\n",
            "activation_11 (Activation)   (None, 20, 20, 32)        0         \n",
            "_________________________________________________________________\n",
            "conv2d_8 (Conv2D)            (None, 9, 9, 64)          32832     \n",
            "_________________________________________________________________\n",
            "activation_12 (Activation)   (None, 9, 9, 64)          0         \n",
            "_________________________________________________________________\n",
            "conv2d_9 (Conv2D)            (None, 7, 7, 64)          36928     \n",
            "_________________________________________________________________\n",
            "activation_13 (Activation)   (None, 7, 7, 64)          0         \n",
            "_________________________________________________________________\n",
            "flatten_3 (Flatten)          (None, 3136)              0         \n",
            "_________________________________________________________________\n",
            "dense_5 (Dense)              (None, 512)               1606144   \n",
            "_________________________________________________________________\n",
            "activation_14 (Activation)   (None, 512)               0         \n",
            "_________________________________________________________________\n",
            "dense_6 (Dense)              (None, 6)                 3078      \n",
            "_________________________________________________________________\n",
            "activation_15 (Activation)   (None, 6)                 0         \n",
            "=================================================================\n",
            "Total params: 1,687,206\n",
            "Trainable params: 1,687,206\n",
            "Non-trainable params: 0\n",
            "_________________________________________________________________\n",
            "None\n"
          ]
        }
      ],
      "source": [
        "# Next, we build our model. We use the same model that was described by Mnih et al. (2015).\n",
        "input_shape = (WINDOW_LENGTH,) + (INPUT_WIDTH,INPUT_HEIGHT)\n",
        "model=0\n",
        "model = Sequential()\n",
        "\n",
        "if K.image_dim_ordering() == 'tf':\n",
        "    # (width, height, channels)\n",
        "    model.add(Permute((2, 3, 1), input_shape=input_shape))\n",
        "elif K.image_dim_ordering() == 'th':\n",
        "    # (channels, width, height)\n",
        "    model.add(Permute((1, 2, 3), input_shape=input_shape))\n",
        "else:\n",
        "    raise RuntimeError('Unknown image_dim_ordering.')\n",
        "\n",
        "model.add(Convolution2D(32, (8, 8), strides=(4, 4)))\n",
        "model.add(Activation('relu'))\n",
        "\n",
        "model.add(Convolution2D(64, (4, 4), strides=(2, 2)))\n",
        "model.add(Activation('relu'))\n",
        "\n",
        "model.add(Convolution2D(64, (3, 3), strides=(1, 1)))\n",
        "model.add(Activation('relu'))\n",
        "\n",
        "model.add(Flatten())\n",
        "model.add(Dense(512))\n",
        "model.add(Activation('relu'))\n",
        "\n",
        "model.add(Dense(nb_actions))\n",
        "model.add(Activation('linear'))\n",
        "\n",
        "print(model.summary())"
      ]
    },
    {
      "cell_type": "markdown",
      "metadata": {
        "id": "yWU1ieruO56a"
      },
      "source": [
        "#### Implementación de la solución DQN"
      ]
    },
    {
      "cell_type": "code",
      "execution_count": 56,
      "metadata": {
        "id": "6n_-FQhkZB6F"
      },
      "outputs": [],
      "source": [
        "memory = SequentialMemory(limit=1000000, window_length=WINDOW_LENGTH)\n",
        "processor = AtariProcessor()"
      ]
    },
    {
      "cell_type": "code",
      "execution_count": 57,
      "metadata": {
        "id": "kIXJRH50ZB6F"
      },
      "outputs": [],
      "source": [
        "policy = LinearAnnealedPolicy(EpsGreedyQPolicy(), attr='eps', value_max=1.0, value_min=0.1, value_test=0.05, nb_steps=25000)"
      ]
    },
    {
      "cell_type": "code",
      "execution_count": 63,
      "metadata": {
        "id": "41_y7284ZB6G"
      },
      "outputs": [],
      "source": [
        "dqn = DQNAgent(model=model, nb_actions=nb_actions, policy=policy,\n",
        "               memory=memory, processor=processor,\n",
        "               nb_steps_warmup=1500, gamma=.99,\n",
        "               target_model_update=200, train_interval=20) \n",
        "\n",
        "dqn.compile(Adam(lr=.00025), metrics=['mae'])"
      ]
    },
    {
      "cell_type": "markdown",
      "metadata": {
        "id": "Q-0af7kAPAdp"
      },
      "source": [
        "#### Entrenamiento"
      ]
    },
    {
      "cell_type": "code",
      "execution_count": 42,
      "metadata": {
        "colab": {
          "base_uri": "https://localhost:8080/"
        },
        "id": "jTrcOquZZB6G",
        "outputId": "5e358f3f-035f-4f62-dc65-09f7f9e14b46"
      },
      "outputs": [
        {
          "name": "stdout",
          "output_type": "stream",
          "text": [
            "Training for 50000 steps ...\n",
            "Interval 1 (0 steps performed)\n",
            "2000/2000 [==============================] - 16s 8ms/step - reward: 0.0170\n",
            "2 episodes - episode_reward: 11.000 [6.000, 16.000] - loss: 0.010 - mean_absolute_error: 0.471 - mean_q: 0.583 - mean_eps: 0.937 - ale.lives: 2.184\n",
            "\n",
            "Interval 2 (2000 steps performed)\n",
            "2000/2000 [==============================] - 23s 11ms/step - reward: 0.0175\n",
            "3 episodes - episode_reward: 14.333 [12.000, 17.000] - loss: 0.011 - mean_absolute_error: 0.650 - mean_q: 0.807 - mean_eps: 0.892 - ale.lives: 2.319\n",
            "\n",
            "Interval 3 (4000 steps performed)\n",
            "2000/2000 [==============================] - 24s 12ms/step - reward: 0.0155\n",
            "3 episodes - episode_reward: 11.333 [9.000, 15.000] - loss: 0.009 - mean_absolute_error: 0.930 - mean_q: 1.143 - mean_eps: 0.820 - ale.lives: 2.091\n",
            "\n",
            "Interval 4 (6000 steps performed)\n",
            "2000/2000 [==============================] - 23s 12ms/step - reward: 0.0190\n",
            "2 episodes - episode_reward: 6.000 [4.000, 8.000] - loss: 0.012 - mean_absolute_error: 1.132 - mean_q: 1.397 - mean_eps: 0.748 - ale.lives: 2.171\n",
            "\n",
            "Interval 5 (8000 steps performed)\n",
            "2000/2000 [==============================] - 24s 12ms/step - reward: 0.0195\n",
            "3 episodes - episode_reward: 16.000 [5.000, 29.000] - loss: 0.009 - mean_absolute_error: 1.199 - mean_q: 1.466 - mean_eps: 0.676 - ale.lives: 2.002\n",
            "\n",
            "Interval 6 (10000 steps performed)\n",
            "2000/2000 [==============================] - 24s 12ms/step - reward: 0.0195\n",
            "3 episodes - episode_reward: 10.000 [5.000, 20.000] - loss: 0.012 - mean_absolute_error: 1.355 - mean_q: 1.659 - mean_eps: 0.604 - ale.lives: 2.034\n",
            "\n",
            "Interval 7 (12000 steps performed)\n",
            "2000/2000 [==============================] - 25s 12ms/step - reward: 0.0150\n",
            "3 episodes - episode_reward: 17.000 [4.000, 29.000] - loss: 0.013 - mean_absolute_error: 1.453 - mean_q: 1.777 - mean_eps: 0.532 - ale.lives: 1.657\n",
            "\n",
            "Interval 8 (14000 steps performed)\n",
            "2000/2000 [==============================] - 24s 12ms/step - reward: 0.0095\n",
            "3 episodes - episode_reward: 8.000 [2.000, 18.000] - loss: 0.009 - mean_absolute_error: 1.465 - mean_q: 1.791 - mean_eps: 0.460 - ale.lives: 1.860\n",
            "\n",
            "Interval 9 (16000 steps performed)\n",
            "2000/2000 [==============================] - 24s 12ms/step - reward: 0.0185\n",
            "3 episodes - episode_reward: 12.333 [8.000, 15.000] - loss: 0.011 - mean_absolute_error: 1.444 - mean_q: 1.762 - mean_eps: 0.388 - ale.lives: 2.166\n",
            "\n",
            "Interval 10 (18000 steps performed)\n",
            "2000/2000 [==============================] - 24s 12ms/step - reward: 0.0145\n",
            "2 episodes - episode_reward: 10.000 [9.000, 11.000] - loss: 0.013 - mean_absolute_error: 1.577 - mean_q: 1.933 - mean_eps: 0.316 - ale.lives: 1.659\n",
            "\n",
            "Interval 11 (20000 steps performed)\n",
            "2000/2000 [==============================] - 26s 13ms/step - reward: 0.0150\n",
            "2 episodes - episode_reward: 17.500 [17.000, 18.000] - loss: 0.011 - mean_absolute_error: 1.651 - mean_q: 2.011 - mean_eps: 0.244 - ale.lives: 1.768\n",
            "\n",
            "Interval 12 (22000 steps performed)\n",
            "2000/2000 [==============================] - 26s 13ms/step - reward: 0.0160\n",
            "2 episodes - episode_reward: 16.000 [10.000, 22.000] - loss: 0.010 - mean_absolute_error: 1.643 - mean_q: 2.000 - mean_eps: 0.172 - ale.lives: 2.273\n",
            "\n",
            "Interval 13 (24000 steps performed)\n",
            "2000/2000 [==============================] - 31s 15ms/step - reward: 0.0190\n",
            "3 episodes - episode_reward: 12.000 [9.000, 15.000] - loss: 0.010 - mean_absolute_error: 1.709 - mean_q: 2.073 - mean_eps: 0.109 - ale.lives: 2.145\n",
            "\n",
            "Interval 14 (26000 steps performed)\n",
            "2000/2000 [==============================] - 26s 13ms/step - reward: 0.0185\n",
            "2 episodes - episode_reward: 22.000 [22.000, 22.000] - loss: 0.014 - mean_absolute_error: 1.761 - mean_q: 2.152 - mean_eps: 0.100 - ale.lives: 1.804\n",
            "\n",
            "Interval 15 (28000 steps performed)\n",
            "2000/2000 [==============================] - 24s 12ms/step - reward: 0.0145\n",
            "2 episodes - episode_reward: 13.500 [6.000, 21.000] - loss: 0.014 - mean_absolute_error: 1.832 - mean_q: 2.232 - mean_eps: 0.100 - ale.lives: 2.289\n",
            "\n",
            "Interval 16 (30000 steps performed)\n",
            "2000/2000 [==============================] - 24s 12ms/step - reward: 0.0110\n",
            "1 episodes - episode_reward: 8.000 [8.000, 8.000] - loss: 0.017 - mean_absolute_error: 1.832 - mean_q: 2.233 - mean_eps: 0.100 - ale.lives: 2.092\n",
            "\n",
            "Interval 17 (32000 steps performed)\n",
            "2000/2000 [==============================] - 25s 12ms/step - reward: 0.0105\n",
            "4 episodes - episode_reward: 9.000 [4.000, 19.000] - loss: 0.015 - mean_absolute_error: 1.851 - mean_q: 2.250 - mean_eps: 0.100 - ale.lives: 2.078\n",
            "\n",
            "Interval 18 (34000 steps performed)\n",
            "2000/2000 [==============================] - 24s 12ms/step - reward: 0.0175\n",
            "3 episodes - episode_reward: 11.333 [3.000, 16.000] - loss: 0.012 - mean_absolute_error: 1.996 - mean_q: 2.429 - mean_eps: 0.100 - ale.lives: 2.111\n",
            "\n",
            "Interval 19 (36000 steps performed)\n",
            "2000/2000 [==============================] - 25s 12ms/step - reward: 0.0135\n",
            "2 episodes - episode_reward: 5.500 [5.000, 6.000] - loss: 0.013 - mean_absolute_error: 2.032 - mean_q: 2.476 - mean_eps: 0.100 - ale.lives: 1.831\n",
            "\n",
            "Interval 20 (38000 steps performed)\n",
            "2000/2000 [==============================] - 25s 13ms/step - reward: 0.0125\n",
            "3 episodes - episode_reward: 14.333 [6.000, 20.000] - loss: 0.015 - mean_absolute_error: 1.902 - mean_q: 2.315 - mean_eps: 0.100 - ale.lives: 2.055\n",
            "\n",
            "Interval 21 (40000 steps performed)\n",
            "2000/2000 [==============================] - 24s 12ms/step - reward: 0.0110\n",
            "3 episodes - episode_reward: 7.333 [5.000, 10.000] - loss: 0.014 - mean_absolute_error: 1.952 - mean_q: 2.383 - mean_eps: 0.100 - ale.lives: 1.913\n",
            "\n",
            "Interval 22 (42000 steps performed)\n",
            "2000/2000 [==============================] - 24s 12ms/step - reward: 0.0165\n",
            "2 episodes - episode_reward: 12.500 [10.000, 15.000] - loss: 0.011 - mean_absolute_error: 1.898 - mean_q: 2.305 - mean_eps: 0.100 - ale.lives: 2.008\n",
            "\n",
            "Interval 23 (44000 steps performed)\n",
            "2000/2000 [==============================] - 24s 12ms/step - reward: 0.0150\n",
            "3 episodes - episode_reward: 7.667 [6.000, 9.000] - loss: 0.012 - mean_absolute_error: 2.032 - mean_q: 2.471 - mean_eps: 0.100 - ale.lives: 2.249\n",
            "\n",
            "Interval 24 (46000 steps performed)\n",
            "2000/2000 [==============================] - 23s 12ms/step - reward: 0.0250\n",
            "2 episodes - episode_reward: 20.500 [8.000, 33.000] - loss: 0.013 - mean_absolute_error: 1.971 - mean_q: 2.392 - mean_eps: 0.100 - ale.lives: 2.118\n",
            "\n",
            "Interval 25 (48000 steps performed)\n",
            "2000/2000 [==============================] - 23s 12ms/step - reward: 0.0135\n",
            "done, took 602.639 seconds\n"
          ]
        }
      ],
      "source": [
        "# Training part\n",
        "weights_filename = 'dqn_{}_weights.h5f'.format(env_name)\n",
        "checkpoint_weights_filename = 'dqn_' + env_name + '_weights_{step}.h5f'\n",
        "log_filename = 'dqn_{}_log.json'.format(env_name)\n",
        "callbacks = [ModelIntervalCheckpoint(checkpoint_weights_filename, interval=2000)]\n",
        "callbacks += [FileLogger(log_filename, interval=100)]\n",
        "\n",
        "dqn.fit(env, callbacks=callbacks, nb_steps=50000, log_interval=2000, visualize=False)\n",
        "\n",
        "dqn.save_weights(weights_filename, overwrite=True)"
      ]
    },
    {
      "cell_type": "markdown",
      "metadata": {
        "id": "18lKqwKUpHi7"
      },
      "source": [
        "#### Gráfica de entrenamiento"
      ]
    },
    {
      "cell_type": "code",
      "execution_count": 43,
      "metadata": {
        "colab": {
          "base_uri": "https://localhost:8080/",
          "height": 266
        },
        "id": "pz3SY7nfpKDr",
        "outputId": "a5fea94f-c830-4e9c-9a12-f74aa5d485d5"
      },
      "outputs": [
        {
          "data": {
            "image/png": "[encoded data removed]",
            "text/plain": [
              "<Figure size 432x288 with 1 Axes>"
            ]
          },
          "metadata": {
            "needs_background": "light"
          },
          "output_type": "display_data"
        }
      ],
      "source": [
        "dictionary = json.load(open(log_filename, 'r'))\n",
        "fig, ax = plt.subplots()\n",
        "ax.plot(dictionary['nb_steps'], dictionary['episode_reward'], color = 'tab:purple')\n",
        "plt.show()"
      ]
    },
    {
      "cell_type": "markdown",
      "metadata": {
        "id": "_zNHNrdCPCt6"
      },
      "source": [
        "#### Test"
      ]
    },
    {
      "cell_type": "code",
      "execution_count": 66,
      "metadata": {
        "colab": {
          "base_uri": "https://localhost:8080/"
        },
        "id": "2umsQRgGuvhy",
        "outputId": "42950c93-4908-4d1d-a407-a6c334d663bb"
      },
      "outputs": [
        {
          "name": "stdout",
          "output_type": "stream",
          "text": [
            "Testing for 10 episodes ...\n",
            "Episode 1: reward: 17.000, steps: 781\n",
            "Episode 2: reward: 20.000, steps: 980\n",
            "Episode 3: reward: 24.000, steps: 1088\n",
            "Episode 4: reward: 29.000, steps: 1479\n",
            "Episode 5: reward: 18.000, steps: 798\n",
            "Episode 6: reward: 10.000, steps: 599\n",
            "Episode 7: reward: 28.000, steps: 1309\n",
            "Episode 8: reward: 19.000, steps: 1094\n",
            "Episode 9: reward: 26.000, steps: 1108\n",
            "Episode 10: reward: 20.000, steps: 1192\n",
            "Episodes reward average: 21.1\n"
          ]
        }
      ],
      "source": [
        "# Testing part to calculate the mean reward\n",
        "weights_filename = 'dqn_{}_weights.h5f'.format(env_name)\n",
        "dqn.load_weights(weights_filename)\n",
        "history_dict = dqn.test(env, nb_episodes=10, visualize=False).history\n",
        "test_reward_average = np.mean(history_dict['episode_reward'])\n",
        "print(f\"Episodes reward average: {test_reward_average}\")"
      ]
    },
    {
      "cell_type": "markdown",
      "metadata": {
        "id": "GUPyWOKaPJ8y"
      },
      "source": [
        "#### Parámetros seleccionados y conclusiones"
      ]
    },
    {
      "cell_type": "markdown",
      "metadata": {
        "id": "VbhHUoejfEoG"
      },
      "source": [
        "Con el objetivo de lograr objetivo del proyecto (20 puntos de recompensa en promedio), dividimos el esfuerzo de optimizar el algoritmo en tres frentes:\n",
        "\n",
        "**Procesamiento de las observaciones y red neuronal**\n",
        "\n",
        "En este primer experimento buscamos optimizar el algoritmo utilizando la misma configuración de red neuronal vista en el ejercicio de Breakout con el parámetro WINDOW_LENGTH en 4 (4 imagenes por estado) y resolución de 84x84.\n",
        "\n",
        "**Optimización de la policy ajustando los hiperparámetros del épsilon**\n",
        "\n",
        "Los mejores resultados se obtuvieron aplicando una redución del epsilon desde 1 hasta 0.1 en un rango de 25.000 steps. Se realizaron pruebas con epsilon de 1 a 0.5 para mantener una exploración/explotación equilibrada pero sin lograr mejora en el entrenamiento.\n",
        "\n",
        "**Optimización de hiperparámetros del agente DQN**\n",
        "\n",
        "Para el agente DQN estamos actualizando el target model 200 steps, parámetro con el cual logramos mejores episodios de entrenamiento. \n",
        "\n",
        "**Resultados en modo test**\n",
        "\n",
        "Visualizando el agente en modo test, encontramos que en este experimento el agente encontró una estrategia de moverse rapidamente de izquierda a derecha todo el tiempo logrando evitar los ataques del enemigo y maximizando la recompensa.\n",
        "\n",
        "Cabe anotar que la prueba de ejecutó cargando los mejores pesos encontrados durante las diferentes ejecuciones.\n",
        "\n",
        "![Screen Shot 2021-12-17 at 2.07.09 PM.png](data:image/png;base64,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)\n"
      ]
    },
    {
      "cell_type": "markdown",
      "metadata": {
        "id": "6pdTrTIDiukl"
      },
      "source": [
        "### Experimento #2"
      ]
    },
    {
      "cell_type": "markdown",
      "metadata": {
        "id": "KXYC2MxsiyaH"
      },
      "source": [
        "#### Configuración del entorno"
      ]
    },
    {
      "cell_type": "code",
      "execution_count": 67,
      "metadata": {
        "id": "nW4U4f1Yi13S"
      },
      "outputs": [],
      "source": [
        "#INPUT_SHAPE = (80, 80)\n",
        "INPUT_WIDTH = 80#105\n",
        "INPUT_HEIGHT = 80\n",
        "\n",
        "WINDOW_LENGTH = 8"
      ]
    },
    {
      "cell_type": "code",
      "execution_count": 68,
      "metadata": {
        "id": "E9yVjLiwjkRg"
      },
      "outputs": [],
      "source": [
        "# In this example, we need to preprocess the observations\n",
        "class AtariProcessor(Processor):\n",
        "    def process_observation(self, observation):\n",
        "        assert observation.ndim == 3  # (height, width, channel)\n",
        "        #print(observation.shape)\n",
        "        img = Image.fromarray(observation)\n",
        "        img = img.resize((INPUT_HEIGHT,INPUT_WIDTH)).convert('L')\n",
        "        processed_observation = np.array(img)\n",
        "        #img.save(\"/content/observation.png\")\n",
        "        #print(processed_observation.shape)\n",
        "        assert processed_observation.shape == (INPUT_WIDTH,INPUT_HEIGHT)\n",
        "        return processed_observation.astype('uint8')\n",
        "\n",
        "    def process_state_batch(self, batch):\n",
        "        processed_batch = batch.astype('float32') / 255.\n",
        "        return processed_batch\n",
        "\n",
        "    def process_reward(self, reward):\n",
        "        return np.clip(reward, -1., 1.)"
      ]
    },
    {
      "cell_type": "code",
      "execution_count": 69,
      "metadata": {
        "colab": {
          "base_uri": "https://localhost:8080/"
        },
        "id": "4578QljejnAO",
        "outputId": "bd45a399-7446-4f6b-b3bf-0af7ff22e05b"
      },
      "outputs": [
        {
          "name": "stdout",
          "output_type": "stream",
          "text": [
            "Cantidad de acciones: 6\n",
            "Espacio de observaciones: Box(0, 255, (210, 160, 3), uint8)\n"
          ]
        }
      ],
      "source": [
        "# Get the environment and extract the number of actions.\n",
        "env_name = 'SpaceInvaders-v0'\n",
        "env = gym.make(env_name)\n",
        "np.random.seed(123)\n",
        "env.seed(123)\n",
        "nb_actions = env.action_space.n\n",
        "print(f\"Cantidad de acciones: {nb_actions}\")\n",
        "print(f\"Espacio de observaciones: {env.observation_space}\")"
      ]
    },
    {
      "cell_type": "markdown",
      "metadata": {
        "id": "zE7Rhq9Ni3B7"
      },
      "source": [
        "#### Implementación de la red neuronal"
      ]
    },
    {
      "cell_type": "code",
      "execution_count": 70,
      "metadata": {
        "colab": {
          "base_uri": "https://localhost:8080/"
        },
        "id": "N1x1stbLi8CN",
        "outputId": "92dbe2f8-ba81-4548-f14a-af5664c59346"
      },
      "outputs": [
        {
          "name": "stdout",
          "output_type": "stream",
          "text": [
            "_________________________________________________________________\n",
            "Layer (type)                 Output Shape              Param #   \n",
            "=================================================================\n",
            "permute_4 (Permute)          (None, 80, 80, 8)         0         \n",
            "_________________________________________________________________\n",
            "conv2d_10 (Conv2D)           (None, 80, 80, 32)        2336      \n",
            "_________________________________________________________________\n",
            "activation_16 (Activation)   (None, 80, 80, 32)        0         \n",
            "_________________________________________________________________\n",
            "max_pooling2d_1 (MaxPooling2 (None, 40, 40, 32)        0         \n",
            "_________________________________________________________________\n",
            "conv2d_11 (Conv2D)           (None, 40, 40, 64)        18496     \n",
            "_________________________________________________________________\n",
            "activation_17 (Activation)   (None, 40, 40, 64)        0         \n",
            "_________________________________________________________________\n",
            "max_pooling2d_2 (MaxPooling2 (None, 20, 20, 64)        0         \n",
            "_________________________________________________________________\n",
            "conv2d_12 (Conv2D)           (None, 20, 20, 128)       73856     \n",
            "_________________________________________________________________\n",
            "activation_18 (Activation)   (None, 20, 20, 128)       0         \n",
            "_________________________________________________________________\n",
            "max_pooling2d_3 (MaxPooling2 (None, 10, 10, 128)       0         \n",
            "_________________________________________________________________\n",
            "flatten_4 (Flatten)          (None, 12800)             0         \n",
            "_________________________________________________________________\n",
            "dense_7 (Dense)              (None, 256)               3277056   \n",
            "_________________________________________________________________\n",
            "activation_19 (Activation)   (None, 256)               0         \n",
            "_________________________________________________________________\n",
            "dense_8 (Dense)              (None, 6)                 1542      \n",
            "_________________________________________________________________\n",
            "activation_20 (Activation)   (None, 6)                 0         \n",
            "=================================================================\n",
            "Total params: 3,373,286\n",
            "Trainable params: 3,373,286\n",
            "Non-trainable params: 0\n",
            "_________________________________________________________________\n",
            "None\n"
          ]
        }
      ],
      "source": [
        "# Next, we build our model. We use the same model that was described by Mnih et al. (2015).\n",
        "input_shape = (WINDOW_LENGTH,) + (INPUT_WIDTH,INPUT_HEIGHT)\n",
        "model=0\n",
        "model = Sequential()\n",
        "\n",
        "if K.image_dim_ordering() == 'tf':\n",
        "    # (width, height, channels)\n",
        "    model.add(Permute((2, 3, 1), input_shape=input_shape))\n",
        "elif K.image_dim_ordering() == 'th':\n",
        "    # (channels, width, height)\n",
        "    model.add(Permute((1, 2, 3), input_shape=input_shape))\n",
        "else:\n",
        "    raise RuntimeError('Unknown image_dim_ordering.')\n",
        "\n",
        "model.add(Convolution2D(32, (3,3), strides=(1,1), padding='same'))\n",
        "model.add(Activation('relu'))\n",
        "model.add(MaxPooling2D(pool_size=(2,2)))\n",
        "\n",
        "model.add(Convolution2D(64, (3,3), strides=(1,1), padding='same'))\n",
        "model.add(Activation('relu'))\n",
        "model.add(MaxPooling2D(pool_size=(2,2)))\n",
        "\n",
        "model.add(Convolution2D(128, (3,3), strides=(1,1), padding='same'))\n",
        "model.add(Activation('relu'))\n",
        "model.add(MaxPooling2D(pool_size=(2,2)))\n",
        "\n",
        "model.add(Flatten())\n",
        "model.add(Dense(256))\n",
        "model.add(Activation('relu'))\n",
        "\n",
        "model.add(Dense(nb_actions))\n",
        "model.add(Activation('linear'))\n",
        "\n",
        "print(model.summary())"
      ]
    },
    {
      "cell_type": "markdown",
      "metadata": {
        "id": "2nIclcbDi8XE"
      },
      "source": [
        "#### Implementación de la solución DQN"
      ]
    },
    {
      "cell_type": "code",
      "execution_count": 80,
      "metadata": {
        "id": "w3xczyD6i_YS"
      },
      "outputs": [],
      "source": [
        "memory = SequentialMemory(limit=1000000, window_length=WINDOW_LENGTH)\n",
        "processor = AtariProcessor()"
      ]
    },
    {
      "cell_type": "code",
      "execution_count": 81,
      "metadata": {
        "id": "-ytEW28MjtnF"
      },
      "outputs": [],
      "source": [
        "load_trained_weigths = True\n",
        "policy = LinearAnnealedPolicy(EpsGreedyQPolicy(), attr='eps', value_max=1.0, value_min=0.1, value_test=0.05, nb_steps=25000)\n",
        "\n",
        "if load_trained_weigths:\n",
        "  policy = LinearAnnealedPolicy(EpsGreedyQPolicy(), attr='eps', value_max=0.5, value_min=0.1, value_test=0.05, nb_steps=25000)"
      ]
    },
    {
      "cell_type": "code",
      "execution_count": 82,
      "metadata": {
        "id": "JOc_EU_jjt8b"
      },
      "outputs": [],
      "source": [
        "dqn = DQNAgent(model=model, nb_actions=nb_actions, policy=policy,\n",
        "               memory=memory, processor=processor,\n",
        "               nb_steps_warmup=1500, gamma=.99,\n",
        "               target_model_update=200, train_interval=20) \n",
        "\n",
        "dqn.compile(Adam(lr=.00025), metrics=['mae'])"
      ]
    },
    {
      "cell_type": "markdown",
      "metadata": {
        "id": "7i26jmq0jJou"
      },
      "source": [
        "#### Entrenamiento"
      ]
    },
    {
      "cell_type": "code",
      "execution_count": 74,
      "metadata": {
        "colab": {
          "base_uri": "https://localhost:8080/"
        },
        "id": "X12dPeVUjLUO",
        "outputId": "755bc46b-c204-44d5-dd1b-00b33dcf5f72"
      },
      "outputs": [
        {
          "name": "stdout",
          "output_type": "stream",
          "text": [
            "Training for 50000 steps ...\n",
            "Interval 1 (0 steps performed)\n",
            "2000/2000 [==============================] - 40s 20ms/step - reward: 0.0200\n",
            "3 episodes - episode_reward: 11.667 [8.000, 15.000] - loss: 0.018 - mean_absolute_error: 1.057 - mean_q: 1.304 - mean_eps: 0.472 - ale.lives: 2.242\n",
            "\n",
            "Interval 2 (2000 steps performed)\n",
            "2000/2000 [==============================] - 84s 42ms/step - reward: 0.0130\n",
            "3 episodes - episode_reward: 8.667 [4.000, 11.000] - loss: 0.013 - mean_absolute_error: 1.176 - mean_q: 1.448 - mean_eps: 0.452 - ale.lives: 1.754\n",
            "\n",
            "Interval 3 (4000 steps performed)\n",
            "2000/2000 [==============================] - 84s 42ms/step - reward: 0.0155\n",
            "3 episodes - episode_reward: 12.000 [8.000, 16.000] - loss: 0.012 - mean_absolute_error: 1.172 - mean_q: 1.441 - mean_eps: 0.420 - ale.lives: 1.692\n",
            "\n",
            "Interval 4 (6000 steps performed)\n",
            "2000/2000 [==============================] - 84s 42ms/step - reward: 0.0175\n",
            "3 episodes - episode_reward: 9.000 [6.000, 12.000] - loss: 0.009 - mean_absolute_error: 1.233 - mean_q: 1.513 - mean_eps: 0.388 - ale.lives: 2.255\n",
            "\n",
            "Interval 5 (8000 steps performed)\n",
            "2000/2000 [==============================] - 88s 44ms/step - reward: 0.0195\n",
            "3 episodes - episode_reward: 15.000 [4.000, 25.000] - loss: 0.010 - mean_absolute_error: 1.211 - mean_q: 1.486 - mean_eps: 0.356 - ale.lives: 2.209\n",
            "\n",
            "Interval 6 (10000 steps performed)\n",
            "2000/2000 [==============================] - 97s 49ms/step - reward: 0.0175\n",
            "3 episodes - episode_reward: 11.000 [9.000, 13.000] - loss: 0.015 - mean_absolute_error: 1.263 - mean_q: 1.565 - mean_eps: 0.324 - ale.lives: 1.933\n",
            "\n",
            "Interval 7 (12000 steps performed)\n",
            "2000/2000 [==============================] - 106s 53ms/step - reward: 0.0150\n",
            "2 episodes - episode_reward: 13.500 [12.000, 15.000] - loss: 0.009 - mean_absolute_error: 1.246 - mean_q: 1.530 - mean_eps: 0.292 - ale.lives: 1.813\n",
            "\n",
            "Interval 8 (14000 steps performed)\n",
            "2000/2000 [==============================] - 92s 46ms/step - reward: 0.0170\n",
            "3 episodes - episode_reward: 11.333 [6.000, 17.000] - loss: 0.011 - mean_absolute_error: 1.283 - mean_q: 1.578 - mean_eps: 0.260 - ale.lives: 2.119\n",
            "\n",
            "Interval 9 (16000 steps performed)\n",
            "2000/2000 [==============================] - 87s 43ms/step - reward: 0.0150\n",
            "2 episodes - episode_reward: 15.000 [9.000, 21.000] - loss: 0.010 - mean_absolute_error: 1.222 - mean_q: 1.498 - mean_eps: 0.228 - ale.lives: 1.611\n",
            "\n",
            "Interval 10 (18000 steps performed)\n",
            "2000/2000 [==============================] - 87s 44ms/step - reward: 0.0165\n",
            "3 episodes - episode_reward: 13.333 [11.000, 16.000] - loss: 0.012 - mean_absolute_error: 1.223 - mean_q: 1.510 - mean_eps: 0.196 - ale.lives: 1.919\n",
            "\n",
            "Interval 11 (20000 steps performed)\n",
            "2000/2000 [==============================] - 99s 49ms/step - reward: 0.0185\n",
            "2 episodes - episode_reward: 15.500 [12.000, 19.000] - loss: 0.014 - mean_absolute_error: 1.318 - mean_q: 1.632 - mean_eps: 0.164 - ale.lives: 2.156\n",
            "\n",
            "Interval 12 (22000 steps performed)\n",
            "2000/2000 [==============================] - 106s 53ms/step - reward: 0.0110\n",
            "3 episodes - episode_reward: 7.333 [5.000, 11.000] - loss: 0.009 - mean_absolute_error: 1.373 - mean_q: 1.679 - mean_eps: 0.132 - ale.lives: 2.259\n",
            "\n",
            "Interval 13 (24000 steps performed)\n",
            "2000/2000 [==============================] - 104s 52ms/step - reward: 0.0135\n",
            "3 episodes - episode_reward: 9.667 [6.000, 16.000] - loss: 0.015 - mean_absolute_error: 1.433 - mean_q: 1.772 - mean_eps: 0.104 - ale.lives: 1.920\n",
            "\n",
            "Interval 14 (26000 steps performed)\n",
            "2000/2000 [==============================] - 100s 50ms/step - reward: 0.0135\n",
            "3 episodes - episode_reward: 9.667 [4.000, 19.000] - loss: 0.012 - mean_absolute_error: 1.317 - mean_q: 1.628 - mean_eps: 0.100 - ale.lives: 1.767\n",
            "\n",
            "Interval 15 (28000 steps performed)\n",
            "2000/2000 [==============================] - 109s 54ms/step - reward: 0.0135\n",
            "2 episodes - episode_reward: 11.500 [10.000, 13.000] - loss: 0.012 - mean_absolute_error: 1.420 - mean_q: 1.750 - mean_eps: 0.100 - ale.lives: 1.786\n",
            "\n",
            "Interval 16 (30000 steps performed)\n",
            "2000/2000 [==============================] - 109s 55ms/step - reward: 0.0140\n",
            "3 episodes - episode_reward: 10.667 [6.000, 13.000] - loss: 0.012 - mean_absolute_error: 1.337 - mean_q: 1.640 - mean_eps: 0.100 - ale.lives: 2.099\n",
            "\n",
            "Interval 17 (32000 steps performed)\n",
            "2000/2000 [==============================] - 110s 55ms/step - reward: 0.0155\n",
            "2 episodes - episode_reward: 12.000 [8.000, 16.000] - loss: 0.012 - mean_absolute_error: 1.515 - mean_q: 1.859 - mean_eps: 0.100 - ale.lives: 2.531\n",
            "\n",
            "Interval 18 (34000 steps performed)\n",
            "2000/2000 [==============================] - 107s 53ms/step - reward: 0.0100\n",
            "2 episodes - episode_reward: 13.000 [8.000, 18.000] - loss: 0.012 - mean_absolute_error: 1.481 - mean_q: 1.811 - mean_eps: 0.100 - ale.lives: 2.450\n",
            "\n",
            "Interval 19 (36000 steps performed)\n",
            "2000/2000 [==============================] - 110s 55ms/step - reward: 0.0160\n",
            "4 episodes - episode_reward: 8.750 [4.000, 15.000] - loss: 0.016 - mean_absolute_error: 1.521 - mean_q: 1.871 - mean_eps: 0.100 - ale.lives: 2.044\n",
            "\n",
            "Interval 20 (38000 steps performed)\n",
            "2000/2000 [==============================] - 107s 54ms/step - reward: 0.0140\n",
            "2 episodes - episode_reward: 9.000 [9.000, 9.000] - loss: 0.010 - mean_absolute_error: 1.526 - mean_q: 1.875 - mean_eps: 0.100 - ale.lives: 1.972\n",
            "\n",
            "Interval 21 (40000 steps performed)\n",
            "2000/2000 [==============================] - 104s 52ms/step - reward: 0.0170\n",
            "2 episodes - episode_reward: 17.500 [12.000, 23.000] - loss: 0.010 - mean_absolute_error: 1.520 - mean_q: 1.861 - mean_eps: 0.100 - ale.lives: 2.100\n",
            "\n",
            "Interval 22 (42000 steps performed)\n",
            "2000/2000 [==============================] - 105s 52ms/step - reward: 0.0160\n",
            "3 episodes - episode_reward: 11.667 [11.000, 12.000] - loss: 0.014 - mean_absolute_error: 1.573 - mean_q: 1.930 - mean_eps: 0.100 - ale.lives: 2.171\n",
            "\n",
            "Interval 23 (44000 steps performed)\n",
            "2000/2000 [==============================] - 101s 50ms/step - reward: 0.0175\n",
            "3 episodes - episode_reward: 11.667 [10.000, 13.000] - loss: 0.016 - mean_absolute_error: 1.667 - mean_q: 2.054 - mean_eps: 0.100 - ale.lives: 1.960\n",
            "\n",
            "Interval 24 (46000 steps performed)\n",
            "2000/2000 [==============================] - 110s 55ms/step - reward: 0.0135\n",
            "2 episodes - episode_reward: 13.500 [11.000, 16.000] - loss: 0.012 - mean_absolute_error: 1.585 - mean_q: 1.947 - mean_eps: 0.100 - ale.lives: 1.913\n",
            "\n",
            "Interval 25 (48000 steps performed)\n",
            "2000/2000 [==============================] - 112s 56ms/step - reward: 0.0200\n",
            "done, took 2443.732 seconds\n"
          ]
        }
      ],
      "source": [
        "# Training part\n",
        "weights_filename = 'dqn_{}_weights.h5f'.format(env_name)\n",
        "checkpoint_weights_filename = 'dqn_' + env_name + '_weights_{step}.h5f'\n",
        "log_filename = 'dqn_{}_log.json'.format(env_name)\n",
        "callbacks = [ModelIntervalCheckpoint(checkpoint_weights_filename, interval=2000)]\n",
        "callbacks += [FileLogger(log_filename, interval=100)]\n",
        "\n",
        "if load_trained_weigths:\n",
        "  dqn.load_weights(weights_filename)\n",
        "\n",
        "dqn.fit(env, callbacks=callbacks, nb_steps=50000, log_interval=2000, visualize=False)\n",
        "\n",
        "dqn.save_weights(weights_filename, overwrite=True)"
      ]
    },
    {
      "cell_type": "markdown",
      "metadata": {
        "id": "rSqX9coXjLq5"
      },
      "source": [
        "#### Gráfica de entrenamiento"
      ]
    },
    {
      "cell_type": "code",
      "execution_count": 75,
      "metadata": {
        "colab": {
          "base_uri": "https://localhost:8080/",
          "height": 265
        },
        "id": "c-9Dq0unjOTV",
        "outputId": "d6c9b1a9-7bbd-4967-b38a-0ec0f99089f8"
      },
      "outputs": [
        {
          "data": {
            "image/png": "[encoded data removed]",
            "text/plain": [
              "<Figure size 432x288 with 1 Axes>"
            ]
          },
          "metadata": {
            "needs_background": "light"
          },
          "output_type": "display_data"
        }
      ],
      "source": [
        "dictionary = json.load(open(log_filename, 'r'))\n",
        "fig, ax = plt.subplots()\n",
        "ax.plot(dictionary['nb_steps'], dictionary['episode_reward'], color = 'tab:purple')\n",
        "plt.show()"
      ]
    },
    {
      "cell_type": "markdown",
      "metadata": {
        "id": "WEGVkbN7jOjv"
      },
      "source": [
        "#### Test"
      ]
    },
    {
      "cell_type": "code",
      "execution_count": 83,
      "metadata": {
        "colab": {
          "base_uri": "https://localhost:8080/"
        },
        "id": "A9CvVHa0jTKw",
        "outputId": "e3b13912-cf4b-4ba4-b37b-4166c16d43d8"
      },
      "outputs": [
        {
          "name": "stdout",
          "output_type": "stream",
          "text": [
            "Testing for 10 episodes ...\n",
            "Episode 1: reward: 22.000, steps: 1017\n",
            "Episode 2: reward: 19.000, steps: 1043\n",
            "Episode 3: reward: 20.000, steps: 1037\n",
            "Episode 4: reward: 21.000, steps: 1037\n",
            "Episode 5: reward: 24.000, steps: 1134\n",
            "Episode 6: reward: 20.000, steps: 1050\n",
            "Episode 7: reward: 20.000, steps: 1044\n",
            "Episode 8: reward: 20.000, steps: 1022\n",
            "Episode 9: reward: 20.000, steps: 1039\n",
            "Episode 10: reward: 23.000, steps: 1142\n",
            "Episodes reward average: 20.9\n"
          ]
        }
      ],
      "source": [
        "# Testing part to calculate the mean reward\n",
        "weights_filename = 'dqn_{}_weights.h5f'.format(env_name)\n",
        "dqn.load_weights(weights_filename)\n",
        "history_dict = dqn.test(env, nb_episodes=10, visualize=False).history\n",
        "test_reward_average = np.mean(history_dict['episode_reward'])\n",
        "print(f\"Episodes reward average: {test_reward_average}\")"
      ]
    },
    {
      "cell_type": "markdown",
      "metadata": {
        "id": "C-zgRwuljR9L"
      },
      "source": [
        "#### Parámetros seleccionados y conclusiones"
      ]
    },
    {
      "cell_type": "markdown",
      "metadata": {
        "id": "5-Zhs3jHjZuA"
      },
      "source": [
        "En este experimento buscamos aplicar la estrategia de re-entrenar a partir de un archivo de pesos optimo encontrado en ejecuciones previas.\n",
        "\n",
        "**Procesamiento de las observaciones y red neuronal**\n",
        "\n",
        "En este caso realizamos pruebas ajustando el parámetro WINDOW_LENGTH primero con una sola imagen y aumentando de 1 en 1 hasta llegar a 8 donde obtuvimos los mejores resultados con una arquitectura de red neuronal que utiliza max pooling a la salida de cada capa convolucional, filtros 3x3, stride de 1 y padding 'same'. Un punto no tan favorable es que al tener mas imagenes por estado y mayor cantidad de parámetros en la red, el entrenamiento se hizo algo lento.\n",
        "\n",
        "Tambien experimentamos con diferentes resoluciones y relaciones de aspecto de las imagenes encontrando mejores resultados con la resolución 80x80\n",
        "\n",
        "**Optimización de la policy ajustando los hiperparámetros del épsilon**\n",
        "\n",
        "Misma épsilon policy aplicada en el experimento #1\n",
        "\n",
        "**Optimización de hiperparámetros del agente DQN**\n",
        "\n",
        "Mismos parámetros aplicados al experimeinto #1\n",
        "\n",
        "**Resultados en modo Test**\n",
        "\n",
        "Al visualizar el algoritmo en modo test, encontramos que el agente aprendió una estrategía de moverse inmediatamente a la derecha de la pantalla hasta el final y quedarse allí maximizando la recompensa.\n",
        "\n",
        "Lo especial de los resultados en este experimento es la estabilidad de la recompensa obtenida en cada uno de los episodios.\n",
        "\n",
        "Cabe anotar que la prueba de ejecutó cargando los mejores pesos encontrados durante las diferentes ejecuciones.\n",
        "\n",
        "![Screen Shot 2021-12-17 at 2.12.18 PM.png](data:image/png;base64,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)"
      ]
    }
  ],
  "metadata": {
    "colab": {
      "collapsed_sections": [],
      "machine_shape": "hm",
      "name": "Proyecto SpaceInvaders-Deep Q-learning (DQN).ipynb",
      "provenance": []
    },
    "kernelspec": {
      "display_name": "Python 3",
      "language": "python",
      "name": "python3"
    },
    "language_info": {
      "codemirror_mode": {
        "name": "ipython",
        "version": 3
      },
      "file_extension": ".py",
      "mimetype": "text/x-python",
      "name": "python",
      "nbconvert_exporter": "python",
      "pygments_lexer": "ipython3",
      "version": "3.7.9"
    }
  },
  "nbformat": 4,
  "nbformat_minor": 0
}
